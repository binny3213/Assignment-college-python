{
 "cells": [
  {
   "cell_type": "markdown",
   "metadata": {
    "deletable": false,
    "editable": false,
    "nbgrader": {
     "grade": false,
     "locked": true,
     "solution": false
    }
   },
   "source": [
    "![Final Lesson Exercise](images/Banner_FEX.png)"
   ]
  },
  {
   "cell_type": "markdown",
   "metadata": {
    "deletable": false,
    "editable": false,
    "nbgrader": {
     "grade": false,
     "locked": true,
     "solution": false
    }
   },
   "source": [
    "# Lesson #5: Data Cleaning - final assignment\n",
    "## Good Movies - The IMDb movie dataset"
   ]
  },
  {
   "cell_type": "markdown",
   "metadata": {
    "deletable": false,
    "editable": false,
    "nbgrader": {
     "grade": false,
     "locked": true,
     "solution": false
    }
   },
   "source": [
    "## About this assignment\n",
    "In this assignment, you will continue to explore information regarding good movies.<br/>\n",
    "\n",
    "This time you will explore the data, detect and handle problematic data, using new capabilities, which you studied, including:\n",
    "* Duplicative data\n",
    "* Missing Data\n",
    "* Outliers\n",
    "* Data type casting\n",
    "\n",
    "Note that these capabilites are common in data science and can usually be used in a one-liner."
   ]
  },
  {
   "cell_type": "markdown",
   "metadata": {
    "deletable": false,
    "editable": false,
    "nbgrader": {
     "grade": false,
     "locked": true,
     "solution": false
    }
   },
   "source": [
    "## Preceding Step - import modules (packages)\n",
    "This step is necessary in order to use external packages. \n",
    "We will be using pandas, numpy, matplotlib and seaborn for this task.\n",
    "Numpy is a powerful and popular package for numerical arrays, used routinely in data science.\n",
    "Matplotlib and seaborn are graphic engines.\n",
    "\n",
    "Please notice the magic function (%matplotlib) that renders figures directly in a notebook.\n",
    "\n",
    "**Use the following libraries for the assignment, when needed**:"
   ]
  },
  {
   "cell_type": "code",
   "execution_count": 3,
   "metadata": {
    "deletable": false,
    "editable": false,
    "nbgrader": {
     "grade": false,
     "locked": true,
     "solution": false
    }
   },
   "outputs": [],
   "source": [
    "# ------------>>>>>>>> RUN THIS CODE CELL <<<<<<<<------------\n",
    "# === CELL TYPE: IMPORTS AND SETUP \n",
    "\n",
    "import time      # for testing use only\n",
    "import os         # for testing use only\n",
    "\n",
    "import pandas as pd\n",
    "import numpy as np\n",
    "import matplotlib.pyplot as plt\n",
    "import seaborn as sns\n",
    "%matplotlib inline"
   ]
  },
  {
   "cell_type": "markdown",
   "metadata": {
    "deletable": false,
    "editable": false,
    "nbgrader": {
     "grade": false,
     "locked": true,
     "solution": false
    }
   },
   "source": [
    "## 1. Load the IMDb movie dataset"
   ]
  },
  {
   "cell_type": "markdown",
   "metadata": {
    "deletable": false,
    "editable": false,
    "nbgrader": {
     "grade": false,
     "locked": true,
     "solution": false
    }
   },
   "source": [
    "### 1. Instructions\n",
    "<u>method name</u>: <b>load_csv</b>\n",
    "<pre>The following is expected:\n",
    "--- Complete the 'load_csv' function to load the dataset from the csv \n",
    "    specified by the 'file_name' parameter, into a pandas dataframe, \n",
    "    and return the dataframe (you've done this before)\n",
    "</pre>"
   ]
  },
  {
   "cell_type": "code",
   "execution_count": 4,
   "metadata": {
    "collapsed": true
   },
   "outputs": [],
   "source": [
    "# 1.\n",
    "# ------------>>>>>>>> RUN THIS CODE CELL <<<<<<<<------------\n",
    "# --------  (run after implementation)\n",
    "# === CODE TYPE: ANSWER \n",
    "\n",
    "def load_csv(file_name):\n",
    "    return pd.read_csv(file_name)\n"
   ]
  },
  {
   "cell_type": "code",
   "execution_count": 5,
   "metadata": {
    "collapsed": true
   },
   "outputs": [],
   "source": [
    "# 1.\n",
    "# ------------>>>>>>>> RUN THIS CODE CELL <<<<<<<<------------\n",
    "# --------  (run after implementation)\n",
    "# === CODE TYPE: SELF TESTING\n",
    "# Use the following code to test your implementation:\n",
    "file_name = '.' + os.sep + 'data' + os.sep + 'imdb_movies.csv'\n",
    "df_imdb_movies = load_csv(file_name)\n",
    "###\n",
    "### YOUR CODE HERE\n",
    "###\n"
   ]
  },
  {
   "cell_type": "code",
   "execution_count": 6,
   "metadata": {
    "collapsed": true
   },
   "outputs": [],
   "source": [
    "# 1.\n",
    "# ------------>>>>>>>> RUN THIS CODE CELL <<<<<<<<------------\n",
    "# --------  (run after implementation, if used)\n",
    "# === CODE TYPE: SELF TESTING\n",
    "# Add your additional tests here if needed:\n",
    "###\n",
    "### YOUR CODE HERE\n",
    "###\n"
   ]
  },
  {
   "cell_type": "code",
   "execution_count": 7,
   "metadata": {
    "deletable": false,
    "editable": false,
    "nbgrader": {
     "grade": true,
     "grade_id": "test1-1_load_csv",
     "locked": true,
     "points": "0.1",
     "solution": false
    }
   },
   "outputs": [
    {
     "name": "stdout",
     "output_type": "stream",
     "text": [
      "Part 1. - Test 1 (name: test1-1_load_csv, points: 0.1) - Sanity\n",
      "\t--->Testing the implementation of 'load_csv' ...\n",
      "Good Job!\n",
      "You've passed the 1st test for the 'load_csv' function implementation :-)\n"
     ]
    }
   ],
   "source": [
    "# 1.\n",
    "# ------------>>>>>>>> RUN THIS CODE CELL <<<<<<<<------------\n",
    "# --------  (run only)\n",
    "# === CODE TYPE: GRADED TEST \n",
    "\n",
    "print (\"Part 1. - Test 1 (name: test1-1_load_csv, points: 0.1) - Sanity\")\n",
    "print (\"\\t--->Testing the implementation of 'load_csv' ...\")\n",
    "\n",
    "try:\n",
    "    file_name = '.' + os.sep + 'data' + os.sep + 'imdb_movies.csv'\n",
    "    df_imdb_movies = load_csv(file_name)\n",
    "except Exception as e:\n",
    "    print ('You probably have a syntax error, we got the following exception:')\n",
    "    print (str(e))\n",
    "    raise\n",
    "\n",
    "print (\"Good Job!\\nYou've passed the 1st test for the 'load_csv' function implementation :-)\")"
   ]
  },
  {
   "cell_type": "code",
   "execution_count": 8,
   "metadata": {
    "deletable": false,
    "editable": false,
    "nbgrader": {
     "grade": true,
     "grade_id": "test1-2_load_csv",
     "locked": true,
     "points": "0.1",
     "solution": false
    }
   },
   "outputs": [
    {
     "name": "stdout",
     "output_type": "stream",
     "text": [
      "Part 1. - Test 2 (name: test1-2_load_csv, points: 0.1)\n",
      "\t--->Testing the implementation of 'load_csv' ...\n",
      "Good Job!\n",
      "You've passed the 2nd test for the 'load_csv' function implementation :-)\n"
     ]
    }
   ],
   "source": [
    "# 1.\n",
    "# ------------>>>>>>>> RUN THIS CODE CELL <<<<<<<<------------\n",
    "# --------  (run only)\n",
    "# === CODE TYPE: GRADED TEST \n",
    "\n",
    "print (\"Part 1. - Test 2 (name: test1-2_load_csv, points: 0.1)\")\n",
    "print (\"\\t--->Testing the implementation of 'load_csv' ...\")\n",
    "\n",
    "try:\n",
    "    file_name = '.' + os.sep + 'data' + os.sep + 'imdb_movies.csv'\n",
    "    df_imdb_movies = load_csv(file_name)\n",
    "except Exception as e:\n",
    "    print ('You probably have a syntax error, we got the following exception:')\n",
    "    print (str(e))\n",
    "    raise\n",
    "assert df_imdb_movies is not None, \"You did not return an object from the 'load_csv' function, try again\"\n",
    "assert isinstance(df_imdb_movies, pd.DataFrame), \"The object you returned is not a dataframe, try again\"\n",
    "\n",
    "print (\"Good Job!\\nYou've passed the 2nd test for the 'load_csv' function implementation :-)\")"
   ]
  },
  {
   "cell_type": "markdown",
   "metadata": {
    "deletable": false,
    "editable": false,
    "nbgrader": {
     "grade": false,
     "locked": true,
     "solution": false
    }
   },
   "source": [
    "## 2. Basic data Exploration\n",
    "Explore the data and gather information in the following cell(s).\n",
    "This should assist you in the next steps of handling problematic data, using methods you've learned.\n",
    "It is highly recommended to always visualize the data. Using your common sense you can quickly understand\n",
    "a dataframe by looking at a chart of it.\n",
    "Try using:\n",
    "1. df.describe() (see documentation on how to describe numerical, catagorical, and\\or strings)\n",
    "2. df.hist()\n",
    "3. df.info()\n",
    "4. df.shape\n",
    "5. pd.plotting.scatter_matrix(df)\n"
   ]
  },
  {
   "cell_type": "code",
   "execution_count": 9,
   "metadata": {
    "deletable": false,
    "editable": false,
    "nbgrader": {
     "grade": false,
     "locked": true,
     "solution": false
    }
   },
   "outputs": [
    {
     "name": "stdout",
     "output_type": "stream",
     "text": [
      "The first few rows:\n"
     ]
    },
    {
     "data": {
      "text/html": [
       "<div>\n",
       "<style scoped>\n",
       "    .dataframe tbody tr th:only-of-type {\n",
       "        vertical-align: middle;\n",
       "    }\n",
       "\n",
       "    .dataframe tbody tr th {\n",
       "        vertical-align: top;\n",
       "    }\n",
       "\n",
       "    .dataframe thead th {\n",
       "        text-align: right;\n",
       "    }\n",
       "</style>\n",
       "<table border=\"1\" class=\"dataframe\">\n",
       "  <thead>\n",
       "    <tr style=\"text-align: right;\">\n",
       "      <th></th>\n",
       "      <th>color</th>\n",
       "      <th>director_name</th>\n",
       "      <th>num_critic_for_reviews</th>\n",
       "      <th>duration</th>\n",
       "      <th>director_facebook_likes</th>\n",
       "      <th>actor_3_facebook_likes</th>\n",
       "      <th>actor_2_name</th>\n",
       "      <th>actor_1_facebook_likes</th>\n",
       "      <th>gross</th>\n",
       "      <th>genres</th>\n",
       "      <th>...</th>\n",
       "      <th>num_user_for_reviews</th>\n",
       "      <th>language</th>\n",
       "      <th>country</th>\n",
       "      <th>content_rating</th>\n",
       "      <th>budget</th>\n",
       "      <th>title_year</th>\n",
       "      <th>actor_2_facebook_likes</th>\n",
       "      <th>imdb_score</th>\n",
       "      <th>aspect_ratio</th>\n",
       "      <th>movie_facebook_likes</th>\n",
       "    </tr>\n",
       "  </thead>\n",
       "  <tbody>\n",
       "    <tr>\n",
       "      <th>0</th>\n",
       "      <td>Color</td>\n",
       "      <td>James Cameron</td>\n",
       "      <td>723.0</td>\n",
       "      <td>178.0</td>\n",
       "      <td>0.0</td>\n",
       "      <td>855.0</td>\n",
       "      <td>Joel David Moore</td>\n",
       "      <td>1000.0</td>\n",
       "      <td>760505847.0</td>\n",
       "      <td>Action|Adventure|Fantasy|Sci-Fi</td>\n",
       "      <td>...</td>\n",
       "      <td>3054.0</td>\n",
       "      <td>English</td>\n",
       "      <td>USA</td>\n",
       "      <td>PG-13</td>\n",
       "      <td>237000000.0</td>\n",
       "      <td>2009.0</td>\n",
       "      <td>936.0</td>\n",
       "      <td>7.9</td>\n",
       "      <td>1.78</td>\n",
       "      <td>33000</td>\n",
       "    </tr>\n",
       "    <tr>\n",
       "      <th>1</th>\n",
       "      <td>Color</td>\n",
       "      <td>Gore Verbinski</td>\n",
       "      <td>302.0</td>\n",
       "      <td>169.0</td>\n",
       "      <td>563.0</td>\n",
       "      <td>1000.0</td>\n",
       "      <td>Orlando Bloom</td>\n",
       "      <td>40000.0</td>\n",
       "      <td>309404152.0</td>\n",
       "      <td>Action|Adventure|Fantasy</td>\n",
       "      <td>...</td>\n",
       "      <td>1238.0</td>\n",
       "      <td>English</td>\n",
       "      <td>USA</td>\n",
       "      <td>PG-13</td>\n",
       "      <td>300000000.0</td>\n",
       "      <td>2007.0</td>\n",
       "      <td>5000.0</td>\n",
       "      <td>7.1</td>\n",
       "      <td>2.35</td>\n",
       "      <td>0</td>\n",
       "    </tr>\n",
       "    <tr>\n",
       "      <th>2</th>\n",
       "      <td>Color</td>\n",
       "      <td>Sam Mendes</td>\n",
       "      <td>602.0</td>\n",
       "      <td>148.0</td>\n",
       "      <td>0.0</td>\n",
       "      <td>161.0</td>\n",
       "      <td>Rory Kinnear</td>\n",
       "      <td>11000.0</td>\n",
       "      <td>200074175.0</td>\n",
       "      <td>Action|Adventure|Thriller</td>\n",
       "      <td>...</td>\n",
       "      <td>994.0</td>\n",
       "      <td>English</td>\n",
       "      <td>UK</td>\n",
       "      <td>PG-13</td>\n",
       "      <td>245000000.0</td>\n",
       "      <td>2015.0</td>\n",
       "      <td>393.0</td>\n",
       "      <td>6.8</td>\n",
       "      <td>2.35</td>\n",
       "      <td>85000</td>\n",
       "    </tr>\n",
       "    <tr>\n",
       "      <th>3</th>\n",
       "      <td>Color</td>\n",
       "      <td>Christopher Nolan</td>\n",
       "      <td>813.0</td>\n",
       "      <td>164.0</td>\n",
       "      <td>22000.0</td>\n",
       "      <td>23000.0</td>\n",
       "      <td>Christian Bale</td>\n",
       "      <td>27000.0</td>\n",
       "      <td>448130642.0</td>\n",
       "      <td>Action|Thriller</td>\n",
       "      <td>...</td>\n",
       "      <td>2701.0</td>\n",
       "      <td>English</td>\n",
       "      <td>USA</td>\n",
       "      <td>PG-13</td>\n",
       "      <td>250000000.0</td>\n",
       "      <td>2012.0</td>\n",
       "      <td>23000.0</td>\n",
       "      <td>8.5</td>\n",
       "      <td>2.35</td>\n",
       "      <td>164000</td>\n",
       "    </tr>\n",
       "    <tr>\n",
       "      <th>4</th>\n",
       "      <td>NaN</td>\n",
       "      <td>Doug Walker</td>\n",
       "      <td>NaN</td>\n",
       "      <td>NaN</td>\n",
       "      <td>131.0</td>\n",
       "      <td>NaN</td>\n",
       "      <td>Rob Walker</td>\n",
       "      <td>131.0</td>\n",
       "      <td>NaN</td>\n",
       "      <td>Documentary</td>\n",
       "      <td>...</td>\n",
       "      <td>NaN</td>\n",
       "      <td>NaN</td>\n",
       "      <td>NaN</td>\n",
       "      <td>NaN</td>\n",
       "      <td>NaN</td>\n",
       "      <td>NaN</td>\n",
       "      <td>12.0</td>\n",
       "      <td>7.1</td>\n",
       "      <td>NaN</td>\n",
       "      <td>0</td>\n",
       "    </tr>\n",
       "  </tbody>\n",
       "</table>\n",
       "<p>5 rows × 28 columns</p>\n",
       "</div>"
      ],
      "text/plain": [
       "   color      director_name  num_critic_for_reviews  duration  \\\n",
       "0  Color      James Cameron                   723.0     178.0   \n",
       "1  Color     Gore Verbinski                   302.0     169.0   \n",
       "2  Color         Sam Mendes                   602.0     148.0   \n",
       "3  Color  Christopher Nolan                   813.0     164.0   \n",
       "4    NaN        Doug Walker                     NaN       NaN   \n",
       "\n",
       "   director_facebook_likes  actor_3_facebook_likes      actor_2_name  \\\n",
       "0                      0.0                   855.0  Joel David Moore   \n",
       "1                    563.0                  1000.0     Orlando Bloom   \n",
       "2                      0.0                   161.0      Rory Kinnear   \n",
       "3                  22000.0                 23000.0    Christian Bale   \n",
       "4                    131.0                     NaN        Rob Walker   \n",
       "\n",
       "   actor_1_facebook_likes        gross                           genres  ...  \\\n",
       "0                  1000.0  760505847.0  Action|Adventure|Fantasy|Sci-Fi  ...   \n",
       "1                 40000.0  309404152.0         Action|Adventure|Fantasy  ...   \n",
       "2                 11000.0  200074175.0        Action|Adventure|Thriller  ...   \n",
       "3                 27000.0  448130642.0                  Action|Thriller  ...   \n",
       "4                   131.0          NaN                      Documentary  ...   \n",
       "\n",
       "  num_user_for_reviews language  country  content_rating       budget  \\\n",
       "0               3054.0  English      USA           PG-13  237000000.0   \n",
       "1               1238.0  English      USA           PG-13  300000000.0   \n",
       "2                994.0  English       UK           PG-13  245000000.0   \n",
       "3               2701.0  English      USA           PG-13  250000000.0   \n",
       "4                  NaN      NaN      NaN             NaN          NaN   \n",
       "\n",
       "   title_year actor_2_facebook_likes imdb_score  aspect_ratio  \\\n",
       "0      2009.0                  936.0        7.9          1.78   \n",
       "1      2007.0                 5000.0        7.1          2.35   \n",
       "2      2015.0                  393.0        6.8          2.35   \n",
       "3      2012.0                23000.0        8.5          2.35   \n",
       "4         NaN                   12.0        7.1           NaN   \n",
       "\n",
       "  movie_facebook_likes  \n",
       "0                33000  \n",
       "1                    0  \n",
       "2                85000  \n",
       "3               164000  \n",
       "4                    0  \n",
       "\n",
       "[5 rows x 28 columns]"
      ]
     },
     "execution_count": 9,
     "metadata": {},
     "output_type": "execute_result"
    }
   ],
   "source": [
    "# 2.a.\n",
    "# ------------>>>>>>>> RUN THIS CODE CELL <<<<<<<<------------\n",
    "# --------  (run only)\n",
    "\n",
    "file_name = '.' + os.sep + 'data' + os.sep + 'imdb_movies.csv'\n",
    "df_imdb_movies = load_csv(file_name)\n",
    "print ('The first few rows:')\n",
    "df_imdb_movies.head()"
   ]
  },
  {
   "cell_type": "code",
   "execution_count": 10,
   "metadata": {},
   "outputs": [
    {
     "data": {
      "text/html": [
       "<div>\n",
       "<style scoped>\n",
       "    .dataframe tbody tr th:only-of-type {\n",
       "        vertical-align: middle;\n",
       "    }\n",
       "\n",
       "    .dataframe tbody tr th {\n",
       "        vertical-align: top;\n",
       "    }\n",
       "\n",
       "    .dataframe thead th {\n",
       "        text-align: right;\n",
       "    }\n",
       "</style>\n",
       "<table border=\"1\" class=\"dataframe\">\n",
       "  <thead>\n",
       "    <tr style=\"text-align: right;\">\n",
       "      <th></th>\n",
       "      <th>num_critic_for_reviews</th>\n",
       "      <th>duration</th>\n",
       "      <th>director_facebook_likes</th>\n",
       "      <th>actor_3_facebook_likes</th>\n",
       "      <th>actor_1_facebook_likes</th>\n",
       "      <th>gross</th>\n",
       "      <th>num_voted_users</th>\n",
       "      <th>cast_total_facebook_likes</th>\n",
       "      <th>facenumber_in_poster</th>\n",
       "      <th>num_user_for_reviews</th>\n",
       "      <th>budget</th>\n",
       "      <th>title_year</th>\n",
       "      <th>actor_2_facebook_likes</th>\n",
       "      <th>imdb_score</th>\n",
       "      <th>aspect_ratio</th>\n",
       "      <th>movie_facebook_likes</th>\n",
       "    </tr>\n",
       "  </thead>\n",
       "  <tbody>\n",
       "    <tr>\n",
       "      <th>count</th>\n",
       "      <td>4993.000000</td>\n",
       "      <td>5028.000000</td>\n",
       "      <td>4939.000000</td>\n",
       "      <td>5020.000000</td>\n",
       "      <td>5036.000000</td>\n",
       "      <td>4.159000e+03</td>\n",
       "      <td>5.043000e+03</td>\n",
       "      <td>5043.000000</td>\n",
       "      <td>5030.000000</td>\n",
       "      <td>5022.000000</td>\n",
       "      <td>4.551000e+03</td>\n",
       "      <td>4935.000000</td>\n",
       "      <td>5030.000000</td>\n",
       "      <td>5043.000000</td>\n",
       "      <td>4714.000000</td>\n",
       "      <td>5043.000000</td>\n",
       "    </tr>\n",
       "    <tr>\n",
       "      <th>mean</th>\n",
       "      <td>140.194272</td>\n",
       "      <td>107.201074</td>\n",
       "      <td>686.509212</td>\n",
       "      <td>645.009761</td>\n",
       "      <td>6560.047061</td>\n",
       "      <td>4.846841e+07</td>\n",
       "      <td>8.366816e+04</td>\n",
       "      <td>9699.063851</td>\n",
       "      <td>1.371173</td>\n",
       "      <td>272.770808</td>\n",
       "      <td>3.975262e+07</td>\n",
       "      <td>2002.470517</td>\n",
       "      <td>1651.754473</td>\n",
       "      <td>6.442138</td>\n",
       "      <td>2.220403</td>\n",
       "      <td>7525.964505</td>\n",
       "    </tr>\n",
       "    <tr>\n",
       "      <th>std</th>\n",
       "      <td>121.601675</td>\n",
       "      <td>25.197441</td>\n",
       "      <td>2813.328607</td>\n",
       "      <td>1665.041728</td>\n",
       "      <td>15020.759120</td>\n",
       "      <td>6.845299e+07</td>\n",
       "      <td>1.384853e+05</td>\n",
       "      <td>18163.799124</td>\n",
       "      <td>2.013576</td>\n",
       "      <td>377.982886</td>\n",
       "      <td>2.061149e+08</td>\n",
       "      <td>12.474599</td>\n",
       "      <td>4042.438863</td>\n",
       "      <td>1.125116</td>\n",
       "      <td>1.385113</td>\n",
       "      <td>19320.445110</td>\n",
       "    </tr>\n",
       "    <tr>\n",
       "      <th>min</th>\n",
       "      <td>1.000000</td>\n",
       "      <td>7.000000</td>\n",
       "      <td>0.000000</td>\n",
       "      <td>0.000000</td>\n",
       "      <td>0.000000</td>\n",
       "      <td>1.620000e+02</td>\n",
       "      <td>5.000000e+00</td>\n",
       "      <td>0.000000</td>\n",
       "      <td>0.000000</td>\n",
       "      <td>1.000000</td>\n",
       "      <td>2.180000e+02</td>\n",
       "      <td>1916.000000</td>\n",
       "      <td>0.000000</td>\n",
       "      <td>1.600000</td>\n",
       "      <td>1.180000</td>\n",
       "      <td>0.000000</td>\n",
       "    </tr>\n",
       "    <tr>\n",
       "      <th>25%</th>\n",
       "      <td>50.000000</td>\n",
       "      <td>93.000000</td>\n",
       "      <td>7.000000</td>\n",
       "      <td>133.000000</td>\n",
       "      <td>614.000000</td>\n",
       "      <td>5.340988e+06</td>\n",
       "      <td>8.593500e+03</td>\n",
       "      <td>1411.000000</td>\n",
       "      <td>0.000000</td>\n",
       "      <td>65.000000</td>\n",
       "      <td>6.000000e+06</td>\n",
       "      <td>1999.000000</td>\n",
       "      <td>281.000000</td>\n",
       "      <td>5.800000</td>\n",
       "      <td>1.850000</td>\n",
       "      <td>0.000000</td>\n",
       "    </tr>\n",
       "    <tr>\n",
       "      <th>50%</th>\n",
       "      <td>110.000000</td>\n",
       "      <td>103.000000</td>\n",
       "      <td>49.000000</td>\n",
       "      <td>371.500000</td>\n",
       "      <td>988.000000</td>\n",
       "      <td>2.551750e+07</td>\n",
       "      <td>3.435900e+04</td>\n",
       "      <td>3090.000000</td>\n",
       "      <td>1.000000</td>\n",
       "      <td>156.000000</td>\n",
       "      <td>2.000000e+07</td>\n",
       "      <td>2005.000000</td>\n",
       "      <td>595.000000</td>\n",
       "      <td>6.600000</td>\n",
       "      <td>2.350000</td>\n",
       "      <td>166.000000</td>\n",
       "    </tr>\n",
       "    <tr>\n",
       "      <th>75%</th>\n",
       "      <td>195.000000</td>\n",
       "      <td>118.000000</td>\n",
       "      <td>194.500000</td>\n",
       "      <td>636.000000</td>\n",
       "      <td>11000.000000</td>\n",
       "      <td>6.230944e+07</td>\n",
       "      <td>9.630900e+04</td>\n",
       "      <td>13756.500000</td>\n",
       "      <td>2.000000</td>\n",
       "      <td>326.000000</td>\n",
       "      <td>4.500000e+07</td>\n",
       "      <td>2011.000000</td>\n",
       "      <td>918.000000</td>\n",
       "      <td>7.200000</td>\n",
       "      <td>2.350000</td>\n",
       "      <td>3000.000000</td>\n",
       "    </tr>\n",
       "    <tr>\n",
       "      <th>max</th>\n",
       "      <td>813.000000</td>\n",
       "      <td>511.000000</td>\n",
       "      <td>23000.000000</td>\n",
       "      <td>23000.000000</td>\n",
       "      <td>640000.000000</td>\n",
       "      <td>7.605058e+08</td>\n",
       "      <td>1.689764e+06</td>\n",
       "      <td>656730.000000</td>\n",
       "      <td>43.000000</td>\n",
       "      <td>5060.000000</td>\n",
       "      <td>1.221550e+10</td>\n",
       "      <td>2016.000000</td>\n",
       "      <td>137000.000000</td>\n",
       "      <td>9.500000</td>\n",
       "      <td>16.000000</td>\n",
       "      <td>349000.000000</td>\n",
       "    </tr>\n",
       "  </tbody>\n",
       "</table>\n",
       "</div>"
      ],
      "text/plain": [
       "       num_critic_for_reviews     duration  director_facebook_likes  \\\n",
       "count             4993.000000  5028.000000              4939.000000   \n",
       "mean               140.194272   107.201074               686.509212   \n",
       "std                121.601675    25.197441              2813.328607   \n",
       "min                  1.000000     7.000000                 0.000000   \n",
       "25%                 50.000000    93.000000                 7.000000   \n",
       "50%                110.000000   103.000000                49.000000   \n",
       "75%                195.000000   118.000000               194.500000   \n",
       "max                813.000000   511.000000             23000.000000   \n",
       "\n",
       "       actor_3_facebook_likes  actor_1_facebook_likes         gross  \\\n",
       "count             5020.000000             5036.000000  4.159000e+03   \n",
       "mean               645.009761             6560.047061  4.846841e+07   \n",
       "std               1665.041728            15020.759120  6.845299e+07   \n",
       "min                  0.000000                0.000000  1.620000e+02   \n",
       "25%                133.000000              614.000000  5.340988e+06   \n",
       "50%                371.500000              988.000000  2.551750e+07   \n",
       "75%                636.000000            11000.000000  6.230944e+07   \n",
       "max              23000.000000           640000.000000  7.605058e+08   \n",
       "\n",
       "       num_voted_users  cast_total_facebook_likes  facenumber_in_poster  \\\n",
       "count     5.043000e+03                5043.000000           5030.000000   \n",
       "mean      8.366816e+04                9699.063851              1.371173   \n",
       "std       1.384853e+05               18163.799124              2.013576   \n",
       "min       5.000000e+00                   0.000000              0.000000   \n",
       "25%       8.593500e+03                1411.000000              0.000000   \n",
       "50%       3.435900e+04                3090.000000              1.000000   \n",
       "75%       9.630900e+04               13756.500000              2.000000   \n",
       "max       1.689764e+06              656730.000000             43.000000   \n",
       "\n",
       "       num_user_for_reviews        budget   title_year  \\\n",
       "count           5022.000000  4.551000e+03  4935.000000   \n",
       "mean             272.770808  3.975262e+07  2002.470517   \n",
       "std              377.982886  2.061149e+08    12.474599   \n",
       "min                1.000000  2.180000e+02  1916.000000   \n",
       "25%               65.000000  6.000000e+06  1999.000000   \n",
       "50%              156.000000  2.000000e+07  2005.000000   \n",
       "75%              326.000000  4.500000e+07  2011.000000   \n",
       "max             5060.000000  1.221550e+10  2016.000000   \n",
       "\n",
       "       actor_2_facebook_likes   imdb_score  aspect_ratio  movie_facebook_likes  \n",
       "count             5030.000000  5043.000000   4714.000000           5043.000000  \n",
       "mean              1651.754473     6.442138      2.220403           7525.964505  \n",
       "std               4042.438863     1.125116      1.385113          19320.445110  \n",
       "min                  0.000000     1.600000      1.180000              0.000000  \n",
       "25%                281.000000     5.800000      1.850000              0.000000  \n",
       "50%                595.000000     6.600000      2.350000            166.000000  \n",
       "75%                918.000000     7.200000      2.350000           3000.000000  \n",
       "max             137000.000000     9.500000     16.000000         349000.000000  "
      ]
     },
     "execution_count": 10,
     "metadata": {},
     "output_type": "execute_result"
    }
   ],
   "source": [
    "# 2.b.i.\n",
    "# ------------>>>>>>>> RUN THIS CODE CELL <<<<<<<<------------\n",
    "# --------  (run after implementation, if used)\n",
    "# === CODE TYPE: SELF EXPLORATORY\n",
    "# Add your exploratory code (including visualization) here if needed:\n",
    "###\n",
    "# 2.a.\n",
    "# ------------>>>>>>>> RUN THIS CODE CELL <<<<<<<<------------\n",
    "# --------  (run only)\n",
    "\n",
    "df_imdb_movies.describe()\n",
    "###\n"
   ]
  },
  {
   "cell_type": "code",
   "execution_count": 11,
   "metadata": {},
   "outputs": [
    {
     "data": {
      "text/plain": [
       "array([[<AxesSubplot:title={'center':'num_critic_for_reviews'}>,\n",
       "        <AxesSubplot:title={'center':'duration'}>,\n",
       "        <AxesSubplot:title={'center':'director_facebook_likes'}>,\n",
       "        <AxesSubplot:title={'center':'actor_3_facebook_likes'}>],\n",
       "       [<AxesSubplot:title={'center':'actor_1_facebook_likes'}>,\n",
       "        <AxesSubplot:title={'center':'gross'}>,\n",
       "        <AxesSubplot:title={'center':'num_voted_users'}>,\n",
       "        <AxesSubplot:title={'center':'cast_total_facebook_likes'}>],\n",
       "       [<AxesSubplot:title={'center':'facenumber_in_poster'}>,\n",
       "        <AxesSubplot:title={'center':'num_user_for_reviews'}>,\n",
       "        <AxesSubplot:title={'center':'budget'}>,\n",
       "        <AxesSubplot:title={'center':'title_year'}>],\n",
       "       [<AxesSubplot:title={'center':'actor_2_facebook_likes'}>,\n",
       "        <AxesSubplot:title={'center':'imdb_score'}>,\n",
       "        <AxesSubplot:title={'center':'aspect_ratio'}>,\n",
       "        <AxesSubplot:title={'center':'movie_facebook_likes'}>]],\n",
       "      dtype=object)"
      ]
     },
     "execution_count": 11,
     "metadata": {},
     "output_type": "execute_result"
    },
    {
     "data": {
      "image/png": "[encoded data removed]",
      "text/plain": [
       "<Figure size 432x288 with 16 Axes>"
      ]
     },
     "metadata": {
      "needs_background": "light"
     },
     "output_type": "display_data"
    }
   ],
   "source": [
    "# 2.b.ii.\n",
    "# ------------>>>>>>>> RUN THIS CODE CELL <<<<<<<<------------\n",
    "# --------  (run after implementation, if used)\n",
    "# === CODE TYPE: SELF EXPLORATORY\n",
    "# Add your exploratory code (including visualization) here if needed:\n",
    "###\n",
    "df_imdb_movies.hist()\n",
    "###\n"
   ]
  },
  {
   "cell_type": "code",
   "execution_count": 12,
   "metadata": {},
   "outputs": [
    {
     "name": "stdout",
     "output_type": "stream",
     "text": [
      "<class 'pandas.core.frame.DataFrame'>\n",
      "RangeIndex: 5043 entries, 0 to 5042\n",
      "Data columns (total 28 columns):\n",
      " #   Column                     Non-Null Count  Dtype  \n",
      "---  ------                     --------------  -----  \n",
      " 0   color                      5024 non-null   object \n",
      " 1   director_name              4939 non-null   object \n",
      " 2   num_critic_for_reviews     4993 non-null   float64\n",
      " 3   duration                   5028 non-null   float64\n",
      " 4   director_facebook_likes    4939 non-null   float64\n",
      " 5   actor_3_facebook_likes     5020 non-null   float64\n",
      " 6   actor_2_name               5030 non-null   object \n",
      " 7   actor_1_facebook_likes     5036 non-null   float64\n",
      " 8   gross                      4159 non-null   float64\n",
      " 9   genres                     5043 non-null   object \n",
      " 10  actor_1_name               5036 non-null   object \n",
      " 11  movie_title                5043 non-null   object \n",
      " 12  num_voted_users            5043 non-null   int64  \n",
      " 13  cast_total_facebook_likes  5043 non-null   int64  \n",
      " 14  actor_3_name               5020 non-null   object \n",
      " 15  facenumber_in_poster       5030 non-null   float64\n",
      " 16  plot_keywords              4890 non-null   object \n",
      " 17  movie_imdb_link            5043 non-null   object \n",
      " 18  num_user_for_reviews       5022 non-null   float64\n",
      " 19  language                   5031 non-null   object \n",
      " 20  country                    5038 non-null   object \n",
      " 21  content_rating             4740 non-null   object \n",
      " 22  budget                     4551 non-null   float64\n",
      " 23  title_year                 4935 non-null   float64\n",
      " 24  actor_2_facebook_likes     5030 non-null   float64\n",
      " 25  imdb_score                 5043 non-null   float64\n",
      " 26  aspect_ratio               4714 non-null   float64\n",
      " 27  movie_facebook_likes       5043 non-null   int64  \n",
      "dtypes: float64(13), int64(3), object(12)\n",
      "memory usage: 1.1+ MB\n"
     ]
    }
   ],
   "source": [
    "# 2.b.iii.\n",
    "# ------------>>>>>>>> RUN THIS CODE CELL <<<<<<<<------------\n",
    "# --------  (run after implementation, if used)\n",
    "# === CODE TYPE: SELF EXPLORATORY\n",
    "# Add your exploratory code (including visualization) here if needed:\n",
    "###\n",
    "df_imdb_movies.info()\n",
    "###\n"
   ]
  },
  {
   "cell_type": "code",
   "execution_count": 13,
   "metadata": {},
   "outputs": [
    {
     "data": {
      "text/plain": [
       "array([[<AxesSubplot:xlabel='num_critic_for_reviews', ylabel='num_critic_for_reviews'>,\n",
       "        <AxesSubplot:xlabel='duration', ylabel='num_critic_for_reviews'>,\n",
       "        <AxesSubplot:xlabel='director_facebook_likes', ylabel='num_critic_for_reviews'>,\n",
       "        <AxesSubplot:xlabel='actor_3_facebook_likes', ylabel='num_critic_for_reviews'>,\n",
       "        <AxesSubplot:xlabel='actor_1_facebook_likes', ylabel='num_critic_for_reviews'>,\n",
       "        <AxesSubplot:xlabel='gross', ylabel='num_critic_for_reviews'>,\n",
       "        <AxesSubplot:xlabel='num_voted_users', ylabel='num_critic_for_reviews'>,\n",
       "        <AxesSubplot:xlabel='cast_total_facebook_likes', ylabel='num_critic_for_reviews'>,\n",
       "        <AxesSubplot:xlabel='facenumber_in_poster', ylabel='num_critic_for_reviews'>,\n",
       "        <AxesSubplot:xlabel='num_user_for_reviews', ylabel='num_critic_for_reviews'>,\n",
       "        <AxesSubplot:xlabel='budget', ylabel='num_critic_for_reviews'>,\n",
       "        <AxesSubplot:xlabel='title_year', ylabel='num_critic_for_reviews'>,\n",
       "        <AxesSubplot:xlabel='actor_2_facebook_likes', ylabel='num_critic_for_reviews'>,\n",
       "        <AxesSubplot:xlabel='imdb_score', ylabel='num_critic_for_reviews'>,\n",
       "        <AxesSubplot:xlabel='aspect_ratio', ylabel='num_critic_for_reviews'>,\n",
       "        <AxesSubplot:xlabel='movie_facebook_likes', ylabel='num_critic_for_reviews'>],\n",
       "       [<AxesSubplot:xlabel='num_critic_for_reviews', ylabel='duration'>,\n",
       "        <AxesSubplot:xlabel='duration', ylabel='duration'>,\n",
       "        <AxesSubplot:xlabel='director_facebook_likes', ylabel='duration'>,\n",
       "        <AxesSubplot:xlabel='actor_3_facebook_likes', ylabel='duration'>,\n",
       "        <AxesSubplot:xlabel='actor_1_facebook_likes', ylabel='duration'>,\n",
       "        <AxesSubplot:xlabel='gross', ylabel='duration'>,\n",
       "        <AxesSubplot:xlabel='num_voted_users', ylabel='duration'>,\n",
       "        <AxesSubplot:xlabel='cast_total_facebook_likes', ylabel='duration'>,\n",
       "        <AxesSubplot:xlabel='facenumber_in_poster', ylabel='duration'>,\n",
       "        <AxesSubplot:xlabel='num_user_for_reviews', ylabel='duration'>,\n",
       "        <AxesSubplot:xlabel='budget', ylabel='duration'>,\n",
       "        <AxesSubplot:xlabel='title_year', ylabel='duration'>,\n",
       "        <AxesSubplot:xlabel='actor_2_facebook_likes', ylabel='duration'>,\n",
       "        <AxesSubplot:xlabel='imdb_score', ylabel='duration'>,\n",
       "        <AxesSubplot:xlabel='aspect_ratio', ylabel='duration'>,\n",
       "        <AxesSubplot:xlabel='movie_facebook_likes', ylabel='duration'>],\n",
       "       [<AxesSubplot:xlabel='num_critic_for_reviews', ylabel='director_facebook_likes'>,\n",
       "        <AxesSubplot:xlabel='duration', ylabel='director_facebook_likes'>,\n",
       "        <AxesSubplot:xlabel='director_facebook_likes', ylabel='director_facebook_likes'>,\n",
       "        <AxesSubplot:xlabel='actor_3_facebook_likes', ylabel='director_facebook_likes'>,\n",
       "        <AxesSubplot:xlabel='actor_1_facebook_likes', ylabel='director_facebook_likes'>,\n",
       "        <AxesSubplot:xlabel='gross', ylabel='director_facebook_likes'>,\n",
       "        <AxesSubplot:xlabel='num_voted_users', ylabel='director_facebook_likes'>,\n",
       "        <AxesSubplot:xlabel='cast_total_facebook_likes', ylabel='director_facebook_likes'>,\n",
       "        <AxesSubplot:xlabel='facenumber_in_poster', ylabel='director_facebook_likes'>,\n",
       "        <AxesSubplot:xlabel='num_user_for_reviews', ylabel='director_facebook_likes'>,\n",
       "        <AxesSubplot:xlabel='budget', ylabel='director_facebook_likes'>,\n",
       "        <AxesSubplot:xlabel='title_year', ylabel='director_facebook_likes'>,\n",
       "        <AxesSubplot:xlabel='actor_2_facebook_likes', ylabel='director_facebook_likes'>,\n",
       "        <AxesSubplot:xlabel='imdb_score', ylabel='director_facebook_likes'>,\n",
       "        <AxesSubplot:xlabel='aspect_ratio', ylabel='director_facebook_likes'>,\n",
       "        <AxesSubplot:xlabel='movie_facebook_likes', ylabel='director_facebook_likes'>],\n",
       "       [<AxesSubplot:xlabel='num_critic_for_reviews', ylabel='actor_3_facebook_likes'>,\n",
       "        <AxesSubplot:xlabel='duration', ylabel='actor_3_facebook_likes'>,\n",
       "        <AxesSubplot:xlabel='director_facebook_likes', ylabel='actor_3_facebook_likes'>,\n",
       "        <AxesSubplot:xlabel='actor_3_facebook_likes', ylabel='actor_3_facebook_likes'>,\n",
       "        <AxesSubplot:xlabel='actor_1_facebook_likes', ylabel='actor_3_facebook_likes'>,\n",
       "        <AxesSubplot:xlabel='gross', ylabel='actor_3_facebook_likes'>,\n",
       "        <AxesSubplot:xlabel='num_voted_users', ylabel='actor_3_facebook_likes'>,\n",
       "        <AxesSubplot:xlabel='cast_total_facebook_likes', ylabel='actor_3_facebook_likes'>,\n",
       "        <AxesSubplot:xlabel='facenumber_in_poster', ylabel='actor_3_facebook_likes'>,\n",
       "        <AxesSubplot:xlabel='num_user_for_reviews', ylabel='actor_3_facebook_likes'>,\n",
       "        <AxesSubplot:xlabel='budget', ylabel='actor_3_facebook_likes'>,\n",
       "        <AxesSubplot:xlabel='title_year', ylabel='actor_3_facebook_likes'>,\n",
       "        <AxesSubplot:xlabel='actor_2_facebook_likes', ylabel='actor_3_facebook_likes'>,\n",
       "        <AxesSubplot:xlabel='imdb_score', ylabel='actor_3_facebook_likes'>,\n",
       "        <AxesSubplot:xlabel='aspect_ratio', ylabel='actor_3_facebook_likes'>,\n",
       "        <AxesSubplot:xlabel='movie_facebook_likes', ylabel='actor_3_facebook_likes'>],\n",
       "       [<AxesSubplot:xlabel='num_critic_for_reviews', ylabel='actor_1_facebook_likes'>,\n",
       "        <AxesSubplot:xlabel='duration', ylabel='actor_1_facebook_likes'>,\n",
       "        <AxesSubplot:xlabel='director_facebook_likes', ylabel='actor_1_facebook_likes'>,\n",
       "        <AxesSubplot:xlabel='actor_3_facebook_likes', ylabel='actor_1_facebook_likes'>,\n",
       "        <AxesSubplot:xlabel='actor_1_facebook_likes', ylabel='actor_1_facebook_likes'>,\n",
       "        <AxesSubplot:xlabel='gross', ylabel='actor_1_facebook_likes'>,\n",
       "        <AxesSubplot:xlabel='num_voted_users', ylabel='actor_1_facebook_likes'>,\n",
       "        <AxesSubplot:xlabel='cast_total_facebook_likes', ylabel='actor_1_facebook_likes'>,\n",
       "        <AxesSubplot:xlabel='facenumber_in_poster', ylabel='actor_1_facebook_likes'>,\n",
       "        <AxesSubplot:xlabel='num_user_for_reviews', ylabel='actor_1_facebook_likes'>,\n",
       "        <AxesSubplot:xlabel='budget', ylabel='actor_1_facebook_likes'>,\n",
       "        <AxesSubplot:xlabel='title_year', ylabel='actor_1_facebook_likes'>,\n",
       "        <AxesSubplot:xlabel='actor_2_facebook_likes', ylabel='actor_1_facebook_likes'>,\n",
       "        <AxesSubplot:xlabel='imdb_score', ylabel='actor_1_facebook_likes'>,\n",
       "        <AxesSubplot:xlabel='aspect_ratio', ylabel='actor_1_facebook_likes'>,\n",
       "        <AxesSubplot:xlabel='movie_facebook_likes', ylabel='actor_1_facebook_likes'>],\n",
       "       [<AxesSubplot:xlabel='num_critic_for_reviews', ylabel='gross'>,\n",
       "        <AxesSubplot:xlabel='duration', ylabel='gross'>,\n",
       "        <AxesSubplot:xlabel='director_facebook_likes', ylabel='gross'>,\n",
       "        <AxesSubplot:xlabel='actor_3_facebook_likes', ylabel='gross'>,\n",
       "        <AxesSubplot:xlabel='actor_1_facebook_likes', ylabel='gross'>,\n",
       "        <AxesSubplot:xlabel='gross', ylabel='gross'>,\n",
       "        <AxesSubplot:xlabel='num_voted_users', ylabel='gross'>,\n",
       "        <AxesSubplot:xlabel='cast_total_facebook_likes', ylabel='gross'>,\n",
       "        <AxesSubplot:xlabel='facenumber_in_poster', ylabel='gross'>,\n",
       "        <AxesSubplot:xlabel='num_user_for_reviews', ylabel='gross'>,\n",
       "        <AxesSubplot:xlabel='budget', ylabel='gross'>,\n",
       "        <AxesSubplot:xlabel='title_year', ylabel='gross'>,\n",
       "        <AxesSubplot:xlabel='actor_2_facebook_likes', ylabel='gross'>,\n",
       "        <AxesSubplot:xlabel='imdb_score', ylabel='gross'>,\n",
       "        <AxesSubplot:xlabel='aspect_ratio', ylabel='gross'>,\n",
       "        <AxesSubplot:xlabel='movie_facebook_likes', ylabel='gross'>],\n",
       "       [<AxesSubplot:xlabel='num_critic_for_reviews', ylabel='num_voted_users'>,\n",
       "        <AxesSubplot:xlabel='duration', ylabel='num_voted_users'>,\n",
       "        <AxesSubplot:xlabel='director_facebook_likes', ylabel='num_voted_users'>,\n",
       "        <AxesSubplot:xlabel='actor_3_facebook_likes', ylabel='num_voted_users'>,\n",
       "        <AxesSubplot:xlabel='actor_1_facebook_likes', ylabel='num_voted_users'>,\n",
       "        <AxesSubplot:xlabel='gross', ylabel='num_voted_users'>,\n",
       "        <AxesSubplot:xlabel='num_voted_users', ylabel='num_voted_users'>,\n",
       "        <AxesSubplot:xlabel='cast_total_facebook_likes', ylabel='num_voted_users'>,\n",
       "        <AxesSubplot:xlabel='facenumber_in_poster', ylabel='num_voted_users'>,\n",
       "        <AxesSubplot:xlabel='num_user_for_reviews', ylabel='num_voted_users'>,\n",
       "        <AxesSubplot:xlabel='budget', ylabel='num_voted_users'>,\n",
       "        <AxesSubplot:xlabel='title_year', ylabel='num_voted_users'>,\n",
       "        <AxesSubplot:xlabel='actor_2_facebook_likes', ylabel='num_voted_users'>,\n",
       "        <AxesSubplot:xlabel='imdb_score', ylabel='num_voted_users'>,\n",
       "        <AxesSubplot:xlabel='aspect_ratio', ylabel='num_voted_users'>,\n",
       "        <AxesSubplot:xlabel='movie_facebook_likes', ylabel='num_voted_users'>],\n",
       "       [<AxesSubplot:xlabel='num_critic_for_reviews', ylabel='cast_total_facebook_likes'>,\n",
       "        <AxesSubplot:xlabel='duration', ylabel='cast_total_facebook_likes'>,\n",
       "        <AxesSubplot:xlabel='director_facebook_likes', ylabel='cast_total_facebook_likes'>,\n",
       "        <AxesSubplot:xlabel='actor_3_facebook_likes', ylabel='cast_total_facebook_likes'>,\n",
       "        <AxesSubplot:xlabel='actor_1_facebook_likes', ylabel='cast_total_facebook_likes'>,\n",
       "        <AxesSubplot:xlabel='gross', ylabel='cast_total_facebook_likes'>,\n",
       "        <AxesSubplot:xlabel='num_voted_users', ylabel='cast_total_facebook_likes'>,\n",
       "        <AxesSubplot:xlabel='cast_total_facebook_likes', ylabel='cast_total_facebook_likes'>,\n",
       "        <AxesSubplot:xlabel='facenumber_in_poster', ylabel='cast_total_facebook_likes'>,\n",
       "        <AxesSubplot:xlabel='num_user_for_reviews', ylabel='cast_total_facebook_likes'>,\n",
       "        <AxesSubplot:xlabel='budget', ylabel='cast_total_facebook_likes'>,\n",
       "        <AxesSubplot:xlabel='title_year', ylabel='cast_total_facebook_likes'>,\n",
       "        <AxesSubplot:xlabel='actor_2_facebook_likes', ylabel='cast_total_facebook_likes'>,\n",
       "        <AxesSubplot:xlabel='imdb_score', ylabel='cast_total_facebook_likes'>,\n",
       "        <AxesSubplot:xlabel='aspect_ratio', ylabel='cast_total_facebook_likes'>,\n",
       "        <AxesSubplot:xlabel='movie_facebook_likes', ylabel='cast_total_facebook_likes'>],\n",
       "       [<AxesSubplot:xlabel='num_critic_for_reviews', ylabel='facenumber_in_poster'>,\n",
       "        <AxesSubplot:xlabel='duration', ylabel='facenumber_in_poster'>,\n",
       "        <AxesSubplot:xlabel='director_facebook_likes', ylabel='facenumber_in_poster'>,\n",
       "        <AxesSubplot:xlabel='actor_3_facebook_likes', ylabel='facenumber_in_poster'>,\n",
       "        <AxesSubplot:xlabel='actor_1_facebook_likes', ylabel='facenumber_in_poster'>,\n",
       "        <AxesSubplot:xlabel='gross', ylabel='facenumber_in_poster'>,\n",
       "        <AxesSubplot:xlabel='num_voted_users', ylabel='facenumber_in_poster'>,\n",
       "        <AxesSubplot:xlabel='cast_total_facebook_likes', ylabel='facenumber_in_poster'>,\n",
       "        <AxesSubplot:xlabel='facenumber_in_poster', ylabel='facenumber_in_poster'>,\n",
       "        <AxesSubplot:xlabel='num_user_for_reviews', ylabel='facenumber_in_poster'>,\n",
       "        <AxesSubplot:xlabel='budget', ylabel='facenumber_in_poster'>,\n",
       "        <AxesSubplot:xlabel='title_year', ylabel='facenumber_in_poster'>,\n",
       "        <AxesSubplot:xlabel='actor_2_facebook_likes', ylabel='facenumber_in_poster'>,\n",
       "        <AxesSubplot:xlabel='imdb_score', ylabel='facenumber_in_poster'>,\n",
       "        <AxesSubplot:xlabel='aspect_ratio', ylabel='facenumber_in_poster'>,\n",
       "        <AxesSubplot:xlabel='movie_facebook_likes', ylabel='facenumber_in_poster'>],\n",
       "       [<AxesSubplot:xlabel='num_critic_for_reviews', ylabel='num_user_for_reviews'>,\n",
       "        <AxesSubplot:xlabel='duration', ylabel='num_user_for_reviews'>,\n",
       "        <AxesSubplot:xlabel='director_facebook_likes', ylabel='num_user_for_reviews'>,\n",
       "        <AxesSubplot:xlabel='actor_3_facebook_likes', ylabel='num_user_for_reviews'>,\n",
       "        <AxesSubplot:xlabel='actor_1_facebook_likes', ylabel='num_user_for_reviews'>,\n",
       "        <AxesSubplot:xlabel='gross', ylabel='num_user_for_reviews'>,\n",
       "        <AxesSubplot:xlabel='num_voted_users', ylabel='num_user_for_reviews'>,\n",
       "        <AxesSubplot:xlabel='cast_total_facebook_likes', ylabel='num_user_for_reviews'>,\n",
       "        <AxesSubplot:xlabel='facenumber_in_poster', ylabel='num_user_for_reviews'>,\n",
       "        <AxesSubplot:xlabel='num_user_for_reviews', ylabel='num_user_for_reviews'>,\n",
       "        <AxesSubplot:xlabel='budget', ylabel='num_user_for_reviews'>,\n",
       "        <AxesSubplot:xlabel='title_year', ylabel='num_user_for_reviews'>,\n",
       "        <AxesSubplot:xlabel='actor_2_facebook_likes', ylabel='num_user_for_reviews'>,\n",
       "        <AxesSubplot:xlabel='imdb_score', ylabel='num_user_for_reviews'>,\n",
       "        <AxesSubplot:xlabel='aspect_ratio', ylabel='num_user_for_reviews'>,\n",
       "        <AxesSubplot:xlabel='movie_facebook_likes', ylabel='num_user_for_reviews'>],\n",
       "       [<AxesSubplot:xlabel='num_critic_for_reviews', ylabel='budget'>,\n",
       "        <AxesSubplot:xlabel='duration', ylabel='budget'>,\n",
       "        <AxesSubplot:xlabel='director_facebook_likes', ylabel='budget'>,\n",
       "        <AxesSubplot:xlabel='actor_3_facebook_likes', ylabel='budget'>,\n",
       "        <AxesSubplot:xlabel='actor_1_facebook_likes', ylabel='budget'>,\n",
       "        <AxesSubplot:xlabel='gross', ylabel='budget'>,\n",
       "        <AxesSubplot:xlabel='num_voted_users', ylabel='budget'>,\n",
       "        <AxesSubplot:xlabel='cast_total_facebook_likes', ylabel='budget'>,\n",
       "        <AxesSubplot:xlabel='facenumber_in_poster', ylabel='budget'>,\n",
       "        <AxesSubplot:xlabel='num_user_for_reviews', ylabel='budget'>,\n",
       "        <AxesSubplot:xlabel='budget', ylabel='budget'>,\n",
       "        <AxesSubplot:xlabel='title_year', ylabel='budget'>,\n",
       "        <AxesSubplot:xlabel='actor_2_facebook_likes', ylabel='budget'>,\n",
       "        <AxesSubplot:xlabel='imdb_score', ylabel='budget'>,\n",
       "        <AxesSubplot:xlabel='aspect_ratio', ylabel='budget'>,\n",
       "        <AxesSubplot:xlabel='movie_facebook_likes', ylabel='budget'>],\n",
       "       [<AxesSubplot:xlabel='num_critic_for_reviews', ylabel='title_year'>,\n",
       "        <AxesSubplot:xlabel='duration', ylabel='title_year'>,\n",
       "        <AxesSubplot:xlabel='director_facebook_likes', ylabel='title_year'>,\n",
       "        <AxesSubplot:xlabel='actor_3_facebook_likes', ylabel='title_year'>,\n",
       "        <AxesSubplot:xlabel='actor_1_facebook_likes', ylabel='title_year'>,\n",
       "        <AxesSubplot:xlabel='gross', ylabel='title_year'>,\n",
       "        <AxesSubplot:xlabel='num_voted_users', ylabel='title_year'>,\n",
       "        <AxesSubplot:xlabel='cast_total_facebook_likes', ylabel='title_year'>,\n",
       "        <AxesSubplot:xlabel='facenumber_in_poster', ylabel='title_year'>,\n",
       "        <AxesSubplot:xlabel='num_user_for_reviews', ylabel='title_year'>,\n",
       "        <AxesSubplot:xlabel='budget', ylabel='title_year'>,\n",
       "        <AxesSubplot:xlabel='title_year', ylabel='title_year'>,\n",
       "        <AxesSubplot:xlabel='actor_2_facebook_likes', ylabel='title_year'>,\n",
       "        <AxesSubplot:xlabel='imdb_score', ylabel='title_year'>,\n",
       "        <AxesSubplot:xlabel='aspect_ratio', ylabel='title_year'>,\n",
       "        <AxesSubplot:xlabel='movie_facebook_likes', ylabel='title_year'>],\n",
       "       [<AxesSubplot:xlabel='num_critic_for_reviews', ylabel='actor_2_facebook_likes'>,\n",
       "        <AxesSubplot:xlabel='duration', ylabel='actor_2_facebook_likes'>,\n",
       "        <AxesSubplot:xlabel='director_facebook_likes', ylabel='actor_2_facebook_likes'>,\n",
       "        <AxesSubplot:xlabel='actor_3_facebook_likes', ylabel='actor_2_facebook_likes'>,\n",
       "        <AxesSubplot:xlabel='actor_1_facebook_likes', ylabel='actor_2_facebook_likes'>,\n",
       "        <AxesSubplot:xlabel='gross', ylabel='actor_2_facebook_likes'>,\n",
       "        <AxesSubplot:xlabel='num_voted_users', ylabel='actor_2_facebook_likes'>,\n",
       "        <AxesSubplot:xlabel='cast_total_facebook_likes', ylabel='actor_2_facebook_likes'>,\n",
       "        <AxesSubplot:xlabel='facenumber_in_poster', ylabel='actor_2_facebook_likes'>,\n",
       "        <AxesSubplot:xlabel='num_user_for_reviews', ylabel='actor_2_facebook_likes'>,\n",
       "        <AxesSubplot:xlabel='budget', ylabel='actor_2_facebook_likes'>,\n",
       "        <AxesSubplot:xlabel='title_year', ylabel='actor_2_facebook_likes'>,\n",
       "        <AxesSubplot:xlabel='actor_2_facebook_likes', ylabel='actor_2_facebook_likes'>,\n",
       "        <AxesSubplot:xlabel='imdb_score', ylabel='actor_2_facebook_likes'>,\n",
       "        <AxesSubplot:xlabel='aspect_ratio', ylabel='actor_2_facebook_likes'>,\n",
       "        <AxesSubplot:xlabel='movie_facebook_likes', ylabel='actor_2_facebook_likes'>],\n",
       "       [<AxesSubplot:xlabel='num_critic_for_reviews', ylabel='imdb_score'>,\n",
       "        <AxesSubplot:xlabel='duration', ylabel='imdb_score'>,\n",
       "        <AxesSubplot:xlabel='director_facebook_likes', ylabel='imdb_score'>,\n",
       "        <AxesSubplot:xlabel='actor_3_facebook_likes', ylabel='imdb_score'>,\n",
       "        <AxesSubplot:xlabel='actor_1_facebook_likes', ylabel='imdb_score'>,\n",
       "        <AxesSubplot:xlabel='gross', ylabel='imdb_score'>,\n",
       "        <AxesSubplot:xlabel='num_voted_users', ylabel='imdb_score'>,\n",
       "        <AxesSubplot:xlabel='cast_total_facebook_likes', ylabel='imdb_score'>,\n",
       "        <AxesSubplot:xlabel='facenumber_in_poster', ylabel='imdb_score'>,\n",
       "        <AxesSubplot:xlabel='num_user_for_reviews', ylabel='imdb_score'>,\n",
       "        <AxesSubplot:xlabel='budget', ylabel='imdb_score'>,\n",
       "        <AxesSubplot:xlabel='title_year', ylabel='imdb_score'>,\n",
       "        <AxesSubplot:xlabel='actor_2_facebook_likes', ylabel='imdb_score'>,\n",
       "        <AxesSubplot:xlabel='imdb_score', ylabel='imdb_score'>,\n",
       "        <AxesSubplot:xlabel='aspect_ratio', ylabel='imdb_score'>,\n",
       "        <AxesSubplot:xlabel='movie_facebook_likes', ylabel='imdb_score'>],\n",
       "       [<AxesSubplot:xlabel='num_critic_for_reviews', ylabel='aspect_ratio'>,\n",
       "        <AxesSubplot:xlabel='duration', ylabel='aspect_ratio'>,\n",
       "        <AxesSubplot:xlabel='director_facebook_likes', ylabel='aspect_ratio'>,\n",
       "        <AxesSubplot:xlabel='actor_3_facebook_likes', ylabel='aspect_ratio'>,\n",
       "        <AxesSubplot:xlabel='actor_1_facebook_likes', ylabel='aspect_ratio'>,\n",
       "        <AxesSubplot:xlabel='gross', ylabel='aspect_ratio'>,\n",
       "        <AxesSubplot:xlabel='num_voted_users', ylabel='aspect_ratio'>,\n",
       "        <AxesSubplot:xlabel='cast_total_facebook_likes', ylabel='aspect_ratio'>,\n",
       "        <AxesSubplot:xlabel='facenumber_in_poster', ylabel='aspect_ratio'>,\n",
       "        <AxesSubplot:xlabel='num_user_for_reviews', ylabel='aspect_ratio'>,\n",
       "        <AxesSubplot:xlabel='budget', ylabel='aspect_ratio'>,\n",
       "        <AxesSubplot:xlabel='title_year', ylabel='aspect_ratio'>,\n",
       "        <AxesSubplot:xlabel='actor_2_facebook_likes', ylabel='aspect_ratio'>,\n",
       "        <AxesSubplot:xlabel='imdb_score', ylabel='aspect_ratio'>,\n",
       "        <AxesSubplot:xlabel='aspect_ratio', ylabel='aspect_ratio'>,\n",
       "        <AxesSubplot:xlabel='movie_facebook_likes', ylabel='aspect_ratio'>],\n",
       "       [<AxesSubplot:xlabel='num_critic_for_reviews', ylabel='movie_facebook_likes'>,\n",
       "        <AxesSubplot:xlabel='duration', ylabel='movie_facebook_likes'>,\n",
       "        <AxesSubplot:xlabel='director_facebook_likes', ylabel='movie_facebook_likes'>,\n",
       "        <AxesSubplot:xlabel='actor_3_facebook_likes', ylabel='movie_facebook_likes'>,\n",
       "        <AxesSubplot:xlabel='actor_1_facebook_likes', ylabel='movie_facebook_likes'>,\n",
       "        <AxesSubplot:xlabel='gross', ylabel='movie_facebook_likes'>,\n",
       "        <AxesSubplot:xlabel='num_voted_users', ylabel='movie_facebook_likes'>,\n",
       "        <AxesSubplot:xlabel='cast_total_facebook_likes', ylabel='movie_facebook_likes'>,\n",
       "        <AxesSubplot:xlabel='facenumber_in_poster', ylabel='movie_facebook_likes'>,\n",
       "        <AxesSubplot:xlabel='num_user_for_reviews', ylabel='movie_facebook_likes'>,\n",
       "        <AxesSubplot:xlabel='budget', ylabel='movie_facebook_likes'>,\n",
       "        <AxesSubplot:xlabel='title_year', ylabel='movie_facebook_likes'>,\n",
       "        <AxesSubplot:xlabel='actor_2_facebook_likes', ylabel='movie_facebook_likes'>,\n",
       "        <AxesSubplot:xlabel='imdb_score', ylabel='movie_facebook_likes'>,\n",
       "        <AxesSubplot:xlabel='aspect_ratio', ylabel='movie_facebook_likes'>,\n",
       "        <AxesSubplot:xlabel='movie_facebook_likes', ylabel='movie_facebook_likes'>]],\n",
       "      dtype=object)"
      ]
     },
     "execution_count": 13,
     "metadata": {},
     "output_type": "execute_result"
    },
    {
     "data": {
      "image/png": "[encoded data removed]",
      "text/plain": [
       "<Figure size 432x288 with 256 Axes>"
      ]
     },
     "metadata": {
      "needs_background": "light"
     },
     "output_type": "display_data"
    }
   ],
   "source": [
    "# 2.b.iv.\n",
    "# ------------>>>>>>>> RUN THIS CODE CELL <<<<<<<<------------\n",
    "# --------  (run after implementation, if used)\n",
    "# === CODE TYPE: SELF EXPLORATORY\n",
    "# Add your exploratory code (including visualization) here if needed:\n",
    "###\n",
    "pd.plotting.scatter_matrix(df_imdb_movies)\n",
    "###\n"
   ]
  },
  {
   "cell_type": "markdown",
   "metadata": {
    "deletable": false,
    "editable": false,
    "nbgrader": {
     "grade": false,
     "locked": true,
     "solution": false
    }
   },
   "source": [
    "## 3. Duplicative data\n",
    "In this section you need to:\n",
    "* Detect duplicative rows or partially duplicative rows\n",
    "* Remove these rows\n",
    "Duplicate rows can happen because of various reasons. In most cases, it is wise to remove the duplicate.\n",
    "For example, think about class registration, and how you would deal with a student that signed up twice."
   ]
  },
  {
   "cell_type": "markdown",
   "metadata": {
    "deletable": false,
    "editable": false,
    "nbgrader": {
     "grade": false,
     "locked": true,
     "solution": false
    }
   },
   "source": [
    "### 3.a. Detect duplicative rows"
   ]
  },
  {
   "cell_type": "markdown",
   "metadata": {
    "deletable": false,
    "editable": false,
    "nbgrader": {
     "grade": false,
     "locked": true,
     "solution": false
    }
   },
   "source": [
    "### 3.a. Instructions\n",
    "<u>method name</u>: <b>count_duplicatives</b>\n",
    "<pre>The following is expected:\n",
    "--- Complete the 'count_duplicatives' function to calculate and return the \n",
    "    count of all duplicative rows for the given 'df' parameter dataframe and 'col_name'\n",
    "    If the 'col_name' parameter is None, you should identify duplicates in all columns.\n",
    "\n",
    "    Note that for a single duplication, all duplicative rows should be counted as duplications, \n",
    "    besides the first one.\n",
    "    For example, if row a appears 4 times (original + 3) and row b appears 6 times (original + 5),\n",
    "    we expect to see the result of 8 (3 + 5).\n",
    "    \n",
    "    This function should return a single number.\n",
    "    Hint: see documentation for pd.duplicated()\n",
    "</pre>"
   ]
  },
  {
   "cell_type": "code",
   "execution_count": 14,
   "metadata": {
    "collapsed": true
   },
   "outputs": [],
   "source": [
    "# 3.a.\n",
    "# ------------>>>>>>>> RUN THIS CODE CELL <<<<<<<<------------\n",
    "# --------  (run after implementation)\n",
    "# === CODE TYPE: ANSWER \n",
    "\n",
    "def count_duplicatives(df, col_name=None):\n",
    "    if col_name == None:\n",
    "        return df.duplicated().sum()\n",
    "    return df.duplicated([col_name]).sum()\n"
   ]
  },
  {
   "cell_type": "code",
   "execution_count": 15,
   "metadata": {},
   "outputs": [
    {
     "name": "stdout",
     "output_type": "stream",
     "text": [
      "Self-test; dup_rows =  45\n"
     ]
    }
   ],
   "source": [
    "# 3.a.\n",
    "# ------------>>>>>>>> RUN THIS CODE CELL <<<<<<<<------------\n",
    "# --------  (run after implementation)\n",
    "# === CODE TYPE: SELF TESTING\n",
    "# Use the following code to test your implementation:\n",
    "file_name = '.' + os.sep + 'data' + os.sep + 'imdb_movies.csv'\n",
    "df_imdb_movies = load_csv(file_name)\n",
    "dup_rows =  count_duplicatives(df_imdb_movies)\n",
    "print(\"Self-test; dup_rows = \", dup_rows)\n",
    "###\n",
    "### YOUR CODE HERE\n",
    "###\n"
   ]
  },
  {
   "cell_type": "code",
   "execution_count": 16,
   "metadata": {
    "collapsed": true
   },
   "outputs": [],
   "source": [
    "# 3.a.\n",
    "# ------------>>>>>>>> RUN THIS CODE CELL <<<<<<<<------------\n",
    "# --------  (run after implementation, if used)\n",
    "# === CODE TYPE: SELF TESTING\n",
    "# Add your additional tests here if needed:\n",
    "###\n",
    "### YOUR CODE HERE\n",
    "###\n"
   ]
  },
  {
   "cell_type": "code",
   "execution_count": 17,
   "metadata": {
    "deletable": false,
    "editable": false,
    "nbgrader": {
     "grade": true,
     "grade_id": "test3a-1_count_duplicatives",
     "locked": true,
     "points": "0.1",
     "solution": false
    }
   },
   "outputs": [
    {
     "name": "stdout",
     "output_type": "stream",
     "text": [
      "Part 3.a - Test 1 (name: test3a-1_count_duplicatives, points: 0.1) - Sanity\n",
      "\t--->Testing the implementation of 'count_duplicatives' ...\n",
      "Duplicatives: 45\n",
      "\n",
      "Good Job!\n",
      "You've passed the 1st test of the 'count_duplicatives' method implementation :-)\n"
     ]
    }
   ],
   "source": [
    "# 3.a.\n",
    "# ------------>>>>>>>> RUN THIS CODE CELL <<<<<<<<------------\n",
    "# --------  (run only)\n",
    "# === CODE TYPE: GRADED TEST \n",
    "\n",
    "print (\"Part 3.a - Test 1 (name: test3a-1_count_duplicatives, points: 0.1) - Sanity\")\n",
    "print (\"\\t--->Testing the implementation of 'count_duplicatives' ...\")\n",
    "\n",
    "dup_rows =  -1\n",
    "try:\n",
    "    file_name = '.' + os.sep + 'data' + os.sep + 'imdb_movies.csv'\n",
    "    df_imdb_movies = load_csv(file_name)\n",
    "    dup_rows =  count_duplicatives(df_imdb_movies)\n",
    "    print ('Duplicatives:', dup_rows)\n",
    "except Exception as e:\n",
    "    print ('You probably have a syntax error, we got the following exception:')\n",
    "    print (str(e))\n",
    "    raise\n",
    "    \n",
    "print (\"\\nGood Job!\\nYou've passed the 1st test of the 'count_duplicatives' method implementation :-)\")"
   ]
  },
  {
   "cell_type": "code",
   "execution_count": 18,
   "metadata": {
    "deletable": false,
    "editable": false,
    "nbgrader": {
     "grade": true,
     "grade_id": "test3a-2_count_duplicatives",
     "locked": true,
     "points": "0.1",
     "solution": false
    }
   },
   "outputs": [
    {
     "name": "stdout",
     "output_type": "stream",
     "text": [
      "Part 3.a - Test 2 (name: test3a-2_count_duplicatives, points: 0.1)\n",
      "\t--->Testing the implementation of 'count_duplicatives' ...\n",
      "Duplicatives: 45\n",
      "\n",
      "Good Job!\n",
      "You've passed the 2nd test of the 'count_duplicatives' method implementation :-)\n"
     ]
    }
   ],
   "source": [
    "# 3.a.\n",
    "# ------------>>>>>>>> RUN THIS CODE CELL <<<<<<<<------------\n",
    "# --------  (run only)\n",
    "# === CODE TYPE: GRADED TEST \n",
    "\n",
    "print (\"Part 3.a - Test 2 (name: test3a-2_count_duplicatives, points: 0.1)\")\n",
    "print (\"\\t--->Testing the implementation of 'count_duplicatives' ...\")\n",
    "\n",
    "dup_rows =  -1\n",
    "try:\n",
    "    file_name = '.' + os.sep + 'data' + os.sep + 'imdb_movies.csv'\n",
    "    df_imdb_movies = load_csv(file_name)\n",
    "    dup_rows =  count_duplicatives(df_imdb_movies)\n",
    "    print ('Duplicatives:', dup_rows)\n",
    "except Exception as e:\n",
    "    print ('You probably have a syntax error, we got the following exception:')\n",
    "    print (str(e))\n",
    "    raise\n",
    "    \n",
    "assert 45  == dup_rows, \"wrong number of duplacitive rows\"\n",
    "\n",
    "print (\"\\nGood Job!\\nYou've passed the 2nd test of the 'count_duplicatives' method implementation :-)\")"
   ]
  },
  {
   "cell_type": "code",
   "execution_count": 19,
   "metadata": {
    "deletable": false,
    "editable": false,
    "nbgrader": {
     "grade": true,
     "grade_id": "test3a-3_count_duplicatives",
     "locked": true,
     "points": "0.2",
     "solution": false
    }
   },
   "outputs": [
    {
     "name": "stdout",
     "output_type": "stream",
     "text": [
      "Part 3.a - Test 3 (name: test3a-3_count_duplicatives, points: 0.2)\n",
      "\t--->Testing the implementation of 'count_duplicatives' ...\n",
      "Partial duplicatives by 'movie_imdb_link': 124\n",
      "\n",
      "Good Job!\n",
      "You've passed the 3rd test of the 'count_duplicatives' method implementation :-)\n"
     ]
    }
   ],
   "source": [
    "# 3.a.\n",
    "# ------------>>>>>>>> RUN THIS CODE CELL <<<<<<<<------------\n",
    "# --------  (run only)\n",
    "# === CODE TYPE: GRADED TEST \n",
    "\n",
    "print (\"Part 3.a - Test 3 (name: test3a-3_count_duplicatives, points: 0.2)\")\n",
    "print (\"\\t--->Testing the implementation of 'count_duplicatives' ...\")\n",
    "\n",
    "partial_dup_rows_by_movie_link = -1\n",
    "try:\n",
    "    file_name = '.' + os.sep + 'data' + os.sep + 'imdb_movies.csv'\n",
    "    df_imdb_movies = load_csv(file_name)\n",
    "    col_name = 'movie_imdb_link'\n",
    "    partial_dup_rows_by_movie_link = count_duplicatives(df_imdb_movies, col_name)\n",
    "    print (\"Partial duplicatives by '%s': %d\" %(col_name, partial_dup_rows_by_movie_link))\n",
    "except Exception as e:\n",
    "    print ('You probably have a syntax error, we got the following exception:')\n",
    "    print (str(e))\n",
    "    raise\n",
    "    \n",
    "assert 124 ==  partial_dup_rows_by_movie_link, \"wrong number of partial duplacitive rows\"\n",
    "\n",
    "print (\"\\nGood Job!\\nYou've passed the 3rd test of the 'count_duplicatives' method implementation :-)\")"
   ]
  },
  {
   "cell_type": "markdown",
   "metadata": {
    "deletable": false,
    "editable": false,
    "nbgrader": {
     "grade": false,
     "locked": true,
     "solution": false
    }
   },
   "source": [
    "### 3.b. Remove duplicative rows"
   ]
  },
  {
   "cell_type": "markdown",
   "metadata": {
    "deletable": false,
    "editable": false,
    "nbgrader": {
     "grade": false,
     "locked": true,
     "solution": false
    }
   },
   "source": [
    "### 3.b. Instructions\n",
    "<u>method name</u>: <b>remove_duplicatives</b>\n",
    "<pre>The following is expected:\n",
    "--- Complete the 'remove_duplicatives' function to return a copy of a the given 'df' dataframe,\n",
    "    after removing the duplicatives.\n",
    "    \n",
    "    If the 'col_name' parameter is None, you should remove duplicative rows by any column\n",
    "    Otherwise, identify and remove duplicates just in regard to the column 'col_name'.\n",
    "\n",
    "    Note that for a each duplication, you should keep only the first occurrence. \n",
    "</pre>"
   ]
  },
  {
   "cell_type": "code",
   "execution_count": 20,
   "metadata": {
    "collapsed": true
   },
   "outputs": [],
   "source": [
    "# 3.b.\n",
    "# ------------>>>>>>>> RUN THIS CODE CELL <<<<<<<<------------\n",
    "# --------  (run after implementation)\n",
    "# === CODE TYPE: ANSWER \n",
    "\n",
    "def remove_duplicatives(df, col_name=None):\n",
    "    ###\n",
    "    ### YOUR CODE HERE\n",
    "    ###\n",
    "    df2 = df.copy()\n",
    "    if col_name == None:\n",
    "        return df2.drop_duplicates(keep=\"first\")\n",
    "    return df2.drop_duplicates(subset=[col_name], keep=\"first\")\n"
   ]
  },
  {
   "cell_type": "code",
   "execution_count": 21,
   "metadata": {},
   "outputs": [
    {
     "name": "stdout",
     "output_type": "stream",
     "text": [
      "Self test; df_rem_dup_rows = \n",
      "      color      director_name  num_critic_for_reviews  duration  \\\n",
      "0     Color      James Cameron                   723.0     178.0   \n",
      "1     Color     Gore Verbinski                   302.0     169.0   \n",
      "2     Color         Sam Mendes                   602.0     148.0   \n",
      "3     Color  Christopher Nolan                   813.0     164.0   \n",
      "4       NaN        Doug Walker                     NaN       NaN   \n",
      "...     ...                ...                     ...       ...   \n",
      "5038  Color        Scott Smith                     1.0      87.0   \n",
      "5039  Color                NaN                    43.0      43.0   \n",
      "5040  Color   Benjamin Roberds                    13.0      76.0   \n",
      "5041  Color        Daniel Hsia                    14.0     100.0   \n",
      "5042  Color           Jon Gunn                    43.0      90.0   \n",
      "\n",
      "      director_facebook_likes  actor_3_facebook_likes      actor_2_name  \\\n",
      "0                         0.0                   855.0  Joel David Moore   \n",
      "1                       563.0                  1000.0     Orlando Bloom   \n",
      "2                         0.0                   161.0      Rory Kinnear   \n",
      "3                     22000.0                 23000.0    Christian Bale   \n",
      "4                       131.0                     NaN        Rob Walker   \n",
      "...                       ...                     ...               ...   \n",
      "5038                      2.0                   318.0     Daphne Zuniga   \n",
      "5039                      NaN                   319.0     Valorie Curry   \n",
      "5040                      0.0                     0.0     Maxwell Moody   \n",
      "5041                      0.0                   489.0     Daniel Henney   \n",
      "5042                     16.0                    16.0  Brian Herzlinger   \n",
      "\n",
      "      actor_1_facebook_likes        gross                           genres  \\\n",
      "0                     1000.0  760505847.0  Action|Adventure|Fantasy|Sci-Fi   \n",
      "1                    40000.0  309404152.0         Action|Adventure|Fantasy   \n",
      "2                    11000.0  200074175.0        Action|Adventure|Thriller   \n",
      "3                    27000.0  448130642.0                  Action|Thriller   \n",
      "4                      131.0          NaN                      Documentary   \n",
      "...                      ...          ...                              ...   \n",
      "5038                   637.0          NaN                     Comedy|Drama   \n",
      "5039                   841.0          NaN     Crime|Drama|Mystery|Thriller   \n",
      "5040                     0.0          NaN            Drama|Horror|Thriller   \n",
      "5041                   946.0      10443.0             Comedy|Drama|Romance   \n",
      "5042                    86.0      85222.0                      Documentary   \n",
      "\n",
      "      ... num_user_for_reviews language  country  content_rating       budget  \\\n",
      "0     ...               3054.0  English      USA           PG-13  237000000.0   \n",
      "1     ...               1238.0  English      USA           PG-13  300000000.0   \n",
      "2     ...                994.0  English       UK           PG-13  245000000.0   \n",
      "3     ...               2701.0  English      USA           PG-13  250000000.0   \n",
      "4     ...                  NaN      NaN      NaN             NaN          NaN   \n",
      "...   ...                  ...      ...      ...             ...          ...   \n",
      "5038  ...                  6.0  English   Canada             NaN          NaN   \n",
      "5039  ...                359.0  English      USA           TV-14          NaN   \n",
      "5040  ...                  3.0  English      USA             NaN       1400.0   \n",
      "5041  ...                  9.0  English      USA           PG-13          NaN   \n",
      "5042  ...                 84.0  English      USA              PG       1100.0   \n",
      "\n",
      "      title_year actor_2_facebook_likes imdb_score  aspect_ratio  \\\n",
      "0         2009.0                  936.0        7.9          1.78   \n",
      "1         2007.0                 5000.0        7.1          2.35   \n",
      "2         2015.0                  393.0        6.8          2.35   \n",
      "3         2012.0                23000.0        8.5          2.35   \n",
      "4            NaN                   12.0        7.1           NaN   \n",
      "...          ...                    ...        ...           ...   \n",
      "5038      2013.0                  470.0        7.7           NaN   \n",
      "5039         NaN                  593.0        7.5         16.00   \n",
      "5040      2013.0                    0.0        6.3           NaN   \n",
      "5041      2012.0                  719.0        6.3          2.35   \n",
      "5042      2004.0                   23.0        6.6          1.85   \n",
      "\n",
      "     movie_facebook_likes  \n",
      "0                   33000  \n",
      "1                       0  \n",
      "2                   85000  \n",
      "3                  164000  \n",
      "4                       0  \n",
      "...                   ...  \n",
      "5038                   84  \n",
      "5039                32000  \n",
      "5040                   16  \n",
      "5041                  660  \n",
      "5042                  456  \n",
      "\n",
      "[4998 rows x 28 columns]\n",
      "Self test; df_rem_partial_dups = \n",
      "      color      director_name  num_critic_for_reviews  duration  \\\n",
      "0     Color      James Cameron                   723.0     178.0   \n",
      "1     Color     Gore Verbinski                   302.0     169.0   \n",
      "2     Color         Sam Mendes                   602.0     148.0   \n",
      "3     Color  Christopher Nolan                   813.0     164.0   \n",
      "4       NaN        Doug Walker                     NaN       NaN   \n",
      "...     ...                ...                     ...       ...   \n",
      "5038  Color        Scott Smith                     1.0      87.0   \n",
      "5039  Color                NaN                    43.0      43.0   \n",
      "5040  Color   Benjamin Roberds                    13.0      76.0   \n",
      "5041  Color        Daniel Hsia                    14.0     100.0   \n",
      "5042  Color           Jon Gunn                    43.0      90.0   \n",
      "\n",
      "      director_facebook_likes  actor_3_facebook_likes      actor_2_name  \\\n",
      "0                         0.0                   855.0  Joel David Moore   \n",
      "1                       563.0                  1000.0     Orlando Bloom   \n",
      "2                         0.0                   161.0      Rory Kinnear   \n",
      "3                     22000.0                 23000.0    Christian Bale   \n",
      "4                       131.0                     NaN        Rob Walker   \n",
      "...                       ...                     ...               ...   \n",
      "5038                      2.0                   318.0     Daphne Zuniga   \n",
      "5039                      NaN                   319.0     Valorie Curry   \n",
      "5040                      0.0                     0.0     Maxwell Moody   \n",
      "5041                      0.0                   489.0     Daniel Henney   \n",
      "5042                     16.0                    16.0  Brian Herzlinger   \n",
      "\n",
      "      actor_1_facebook_likes        gross                           genres  \\\n",
      "0                     1000.0  760505847.0  Action|Adventure|Fantasy|Sci-Fi   \n",
      "1                    40000.0  309404152.0         Action|Adventure|Fantasy   \n",
      "2                    11000.0  200074175.0        Action|Adventure|Thriller   \n",
      "3                    27000.0  448130642.0                  Action|Thriller   \n",
      "4                      131.0          NaN                      Documentary   \n",
      "...                      ...          ...                              ...   \n",
      "5038                   637.0          NaN                     Comedy|Drama   \n",
      "5039                   841.0          NaN     Crime|Drama|Mystery|Thriller   \n",
      "5040                     0.0          NaN            Drama|Horror|Thriller   \n",
      "5041                   946.0      10443.0             Comedy|Drama|Romance   \n",
      "5042                    86.0      85222.0                      Documentary   \n",
      "\n",
      "      ... num_user_for_reviews language  country  content_rating       budget  \\\n",
      "0     ...               3054.0  English      USA           PG-13  237000000.0   \n",
      "1     ...               1238.0  English      USA           PG-13  300000000.0   \n",
      "2     ...                994.0  English       UK           PG-13  245000000.0   \n",
      "3     ...               2701.0  English      USA           PG-13  250000000.0   \n",
      "4     ...                  NaN      NaN      NaN             NaN          NaN   \n",
      "...   ...                  ...      ...      ...             ...          ...   \n",
      "5038  ...                  6.0  English   Canada             NaN          NaN   \n",
      "5039  ...                359.0  English      USA           TV-14          NaN   \n",
      "5040  ...                  3.0  English      USA             NaN       1400.0   \n",
      "5041  ...                  9.0  English      USA           PG-13          NaN   \n",
      "5042  ...                 84.0  English      USA              PG       1100.0   \n",
      "\n",
      "      title_year actor_2_facebook_likes imdb_score  aspect_ratio  \\\n",
      "0         2009.0                  936.0        7.9          1.78   \n",
      "1         2007.0                 5000.0        7.1          2.35   \n",
      "2         2015.0                  393.0        6.8          2.35   \n",
      "3         2012.0                23000.0        8.5          2.35   \n",
      "4            NaN                   12.0        7.1           NaN   \n",
      "...          ...                    ...        ...           ...   \n",
      "5038      2013.0                  470.0        7.7           NaN   \n",
      "5039         NaN                  593.0        7.5         16.00   \n",
      "5040      2013.0                    0.0        6.3           NaN   \n",
      "5041      2012.0                  719.0        6.3          2.35   \n",
      "5042      2004.0                   23.0        6.6          1.85   \n",
      "\n",
      "     movie_facebook_likes  \n",
      "0                   33000  \n",
      "1                       0  \n",
      "2                   85000  \n",
      "3                  164000  \n",
      "4                       0  \n",
      "...                   ...  \n",
      "5038                   84  \n",
      "5039                32000  \n",
      "5040                   16  \n",
      "5041                  660  \n",
      "5042                  456  \n",
      "\n",
      "[4919 rows x 28 columns]\n"
     ]
    }
   ],
   "source": [
    "# 3.b.\n",
    "# ------------>>>>>>>> RUN THIS CODE CELL <<<<<<<<------------\n",
    "# --------  (run after implementation)\n",
    "# === CODE TYPE: SELF TESTING\n",
    "# Use the following code to test your implementation:\n",
    "file_name = '.' + os.sep + 'data' + os.sep + 'imdb_movies.csv'\n",
    "df_imdb_movies = load_csv(file_name)\n",
    "col_name = 'movie_imdb_link'\n",
    "df_rem_dup_rows =  remove_duplicatives(df_imdb_movies)\n",
    "df_rem_partial_dups = remove_duplicatives(df_imdb_movies, col_name)\n",
    "print('Self test; df_rem_dup_rows = ')\n",
    "print(df_rem_dup_rows)\n",
    "print('Self test; df_rem_partial_dups = ')\n",
    "print(df_rem_partial_dups)\n",
    "###\n",
    "### YOUR CODE HERE\n",
    "###\n"
   ]
  },
  {
   "cell_type": "code",
   "execution_count": 22,
   "metadata": {
    "collapsed": true
   },
   "outputs": [],
   "source": [
    "# 3.b.\n",
    "# ------------>>>>>>>> RUN THIS CODE CELL <<<<<<<<------------\n",
    "# --------  (run after implementation, if used)\n",
    "# === CODE TYPE: SELF TESTING\n",
    "# Add your additional tests here if needed:\n",
    "###\n",
    "### YOUR CODE HERE\n",
    "###\n"
   ]
  },
  {
   "cell_type": "code",
   "execution_count": 23,
   "metadata": {
    "deletable": false,
    "editable": false,
    "nbgrader": {
     "grade": true,
     "grade_id": "test3b-1_remove_duplicatives",
     "locked": true,
     "points": "0.1",
     "solution": false
    }
   },
   "outputs": [
    {
     "name": "stdout",
     "output_type": "stream",
     "text": [
      "Part 3.b - Test 1 (name: test3b-1_remove_duplicatives, points: 0.1) - Sanity\n",
      "\t--->Testing the implementation of 'remove_duplicatives' ...\n",
      "\n",
      "Good Job!\n",
      "You've passed the 1st test of the 'remove_duplicatives' method implementation :-)\n"
     ]
    }
   ],
   "source": [
    "# 3.b.\n",
    "# ------------>>>>>>>> RUN THIS CODE CELL <<<<<<<<------------\n",
    "# --------  (run only)\n",
    "# === CODE TYPE: GRADED TEST \n",
    "\n",
    "print (\"Part 3.b - Test 1 (name: test3b-1_remove_duplicatives, points: 0.1) - Sanity\")\n",
    "print (\"\\t--->Testing the implementation of 'remove_duplicatives' ...\")\n",
    "\n",
    "try:\n",
    "    file_name = '.' + os.sep + 'data' + os.sep + 'imdb_movies.csv'\n",
    "    df_imdb_movies = load_csv(file_name)\n",
    "    col_name = 'movie_imdb_link'\n",
    "    df_rem_dup_rows =  remove_duplicatives(df_imdb_movies)\n",
    "    df_rem_partial_dups = remove_duplicatives(df_imdb_movies, col_name)\n",
    "except Exception as e:\n",
    "    print ('You probably have a syntax error, we got the following exception:')\n",
    "    print (str(e))\n",
    "    raise\n",
    "    \n",
    "print (\"\\nGood Job!\\nYou've passed the 1st test of the 'remove_duplicatives' method implementation :-)\")"
   ]
  },
  {
   "cell_type": "code",
   "execution_count": 24,
   "metadata": {
    "deletable": false,
    "editable": false,
    "nbgrader": {
     "grade": true,
     "grade_id": "test3b-2_remove_duplicatives",
     "locked": true,
     "points": "0.3",
     "solution": false
    }
   },
   "outputs": [
    {
     "name": "stdout",
     "output_type": "stream",
     "text": [
      "Part 3.b - Test 2 (name: test3b-2_remove_duplicatives, points: 0.3)\n",
      "\t--->Testing the implementation of 'remove_duplicatives' ...\n",
      "\n",
      "Good Job!\n",
      "You've passed the 2nd test of the 'remove_duplicatives' method implementation :-)\n"
     ]
    }
   ],
   "source": [
    "# 3.b.\n",
    "# ------------>>>>>>>> RUN THIS CODE CELL <<<<<<<<------------\n",
    "# --------  (run only)\n",
    "# === CODE TYPE: GRADED TEST \n",
    "\n",
    "print (\"Part 3.b - Test 2 (name: test3b-2_remove_duplicatives, points: 0.3)\")\n",
    "print (\"\\t--->Testing the implementation of 'remove_duplicatives' ...\")\n",
    "\n",
    "\n",
    "try:\n",
    "    file_name = '.' + os.sep + 'data' + os.sep + 'imdb_movies.csv'\n",
    "    df_imdb_movies = load_csv(file_name)\n",
    "    col_name = 'movie_imdb_link'\n",
    "    df_rem_dup_rows =  remove_duplicatives(df_imdb_movies)\n",
    "    df_rem_partial_dups = remove_duplicatives(df_imdb_movies, col_name)\n",
    "except Exception as e:\n",
    "    print ('You probably have a syntax error, we got the following exception:')\n",
    "    print (str(e))\n",
    "    raise\n",
    "    \n",
    "assert 4998  == df_rem_dup_rows.shape[0], \"wrong number of duplacitive rows\"\n",
    "assert 4919 ==  df_rem_partial_dups.shape[0], \"wrong number of partial duplacitive rows\"\n",
    "    \n",
    "print (\"\\nGood Job!\\nYou've passed the 2nd test of the 'remove_duplicatives' method implementation :-)\")"
   ]
  },
  {
   "cell_type": "markdown",
   "metadata": {
    "collapsed": true,
    "deletable": false,
    "editable": false,
    "nbgrader": {
     "grade": false,
     "locked": true,
     "solution": false
    }
   },
   "source": [
    "## 4. Handle missing data\n",
    "In this section you'll need to detect and handle missing data.<br/>\n",
    "Remember that:\n",
    "* Not all data types are treated equally\n",
    "* In some cases, many fields have missing data, and the record (row) just seems to be corrupt\n",
    "* Different fields (columns) might have their own logic"
   ]
  },
  {
   "cell_type": "code",
   "execution_count": 25,
   "metadata": {
    "collapsed": true
   },
   "outputs": [],
   "source": [
    "# 4.a.\n",
    "# ------------>>>>>>>> RUN THIS CODE CELL <<<<<<<<------------\n",
    "# --------  (run after implementation, if used)\n",
    "# === CODE TYPE: SELF EXPLORATORY\n",
    "# Add your exploratory code (including visualization) here if needed:\n",
    "# see df_rem_partial_dups or df_rem_dup_rows\n",
    "###\n",
    "### YOUR CODE HERE\n",
    "###\n"
   ]
  },
  {
   "cell_type": "markdown",
   "metadata": {
    "collapsed": true,
    "deletable": false,
    "editable": false,
    "nbgrader": {
     "grade": false,
     "locked": true,
     "solution": false
    }
   },
   "source": [
    "### 4.b. Remove corrupt rows\n",
    "Remove rows with too many missing values. A row without values can be caused by many reasons,\n",
    "Usually some type of error upstream from our data. We would like to try to fix those we can,\n",
    "and discard the rest."
   ]
  },
  {
   "cell_type": "markdown",
   "metadata": {
    "collapsed": true,
    "deletable": false,
    "editable": false,
    "nbgrader": {
     "grade": false,
     "locked": true,
     "solution": false
    }
   },
   "source": [
    "### 4.b. Instructions\n",
    "<u>method name</u>: <b>remove_corrupt_rows</b>\n",
    "<pre>The following is expected:\n",
    "--- Complete the 'remove_corrupt_rows' function to return a copy of a the given 'df' dataframe,\n",
    "    after removing rows with too many missing values.\n",
    "    A row with too many missing columns is a row with MORE THAN 'num_max_missing_cols' missing columns.\n",
    "    (if a \n",
    "</pre>"
   ]
  },
  {
   "cell_type": "code",
   "execution_count": 30,
   "metadata": {
    "collapsed": true
   },
   "outputs": [],
   "source": [
    "# 4.b.\n",
    "# ------------>>>>>>>> RUN THIS CODE CELL <<<<<<<<------------\n",
    "# --------  (run after implementation)\n",
    "# === CODE TYPE: ANSWER \n",
    "\n",
    "def remove_corrupt_rows(df, num_max_missing_cols):\n",
    "    val = df.shape[1] - num_max_missing_cols\n",
    "    df2 = df.copy()\n",
    "    df2.dropna(axis=0, thresh=val, inplace=True)\n",
    "    return df2\n"
   ]
  },
  {
   "cell_type": "code",
   "execution_count": 31,
   "metadata": {},
   "outputs": [
    {
     "name": "stdout",
     "output_type": "stream",
     "text": [
      "Duplicates in =  45\n",
      "Duplicates out =  0\n"
     ]
    }
   ],
   "source": [
    "# 4.b.\n",
    "# ------------>>>>>>>> RUN THIS CODE CELL <<<<<<<<------------\n",
    "# --------  (run after implementation)\n",
    "# === CODE TYPE: SELF TESTING\n",
    "# Use the following code to test your implementation:\n",
    "file_name = '.' + os.sep + 'data' + os.sep + 'imdb_movies.csv'\n",
    "col_name = 'movie_imdb_link'\n",
    "df_imdb_movies = load_csv(file_name)\n",
    "print(\"Duplicates in = \", count_duplicatives(df_imdb_movies))\n",
    "df_cln = remove_duplicatives(df_imdb_movies, col_name)\n",
    "df_rem_corrupt = remove_corrupt_rows(df_cln, 3)\n",
    "print(\"Duplicates out = \", count_duplicatives(df_rem_corrupt))\n",
    "###\n",
    "### YOUR CODE HERE\n",
    "###\n"
   ]
  },
  {
   "cell_type": "code",
   "execution_count": 32,
   "metadata": {
    "collapsed": true
   },
   "outputs": [],
   "source": [
    "# 4.b.\n",
    "# ------------>>>>>>>> RUN THIS CODE CELL <<<<<<<<------------\n",
    "# --------  (run after implementation, if used)\n",
    "# === CODE TYPE: SELF TESTING\n",
    "# Add your additional tests here if needed:\n",
    "\n",
    "###\n",
    "### YOUR CODE HERE\n",
    "###\n"
   ]
  },
  {
   "cell_type": "code",
   "execution_count": 33,
   "metadata": {
    "deletable": false,
    "editable": false,
    "nbgrader": {
     "grade": true,
     "grade_id": "test4b-1_remove_corrupt_rows",
     "locked": true,
     "points": "0.1",
     "solution": false
    }
   },
   "outputs": [
    {
     "name": "stdout",
     "output_type": "stream",
     "text": [
      "Part 4.b. - Test 1 (name: test4b-1_remove_corrupt_rows, points: 0.1) - Sanity\n",
      "\t--->Testing the implementation of 'remove_corrupt_rows' ...\n",
      "Test 1 - Testing the implementations of the 'remove_corrupt_rows' method ...\n",
      "\n",
      "\n",
      "Good Job!\n",
      "You've passed the 1st test of the 'remove_corrupt_rows' method implementation :-)\n"
     ]
    }
   ],
   "source": [
    "# 4.b.\n",
    "# ------------>>>>>>>> RUN THIS CODE CELL <<<<<<<<------------\n",
    "# --------  (run only)\n",
    "# === CODE TYPE: GRADED TEST \n",
    "\n",
    "print (\"Part 4.b. - Test 1 (name: test4b-1_remove_corrupt_rows, points: 0.1) - Sanity\")\n",
    "print (\"\\t--->Testing the implementation of 'remove_corrupt_rows' ...\")\n",
    "\n",
    "print (\"Test 1 - Testing the implementations of the 'remove_corrupt_rows' method ...\\n\")\n",
    "\n",
    "file_name = '.' + os.sep + 'data' + os.sep + 'imdb_movies.csv'\n",
    "col_name = 'movie_imdb_link'\n",
    "try:\n",
    "    df_imdb_movies = load_csv(file_name)\n",
    "    df_cln = remove_duplicatives(df_imdb_movies, col_name)\n",
    "    df_rem_corrupt = remove_corrupt_rows(df_cln, 3)\n",
    "except Exception as e:\n",
    "    print ('You probably have a syntax error, we got the following exception:')\n",
    "    print (str(e))\n",
    "    raise\n",
    "\n",
    "print (\"\\nGood Job!\\nYou've passed the 1st test of the 'remove_corrupt_rows' method implementation :-)\")"
   ]
  },
  {
   "cell_type": "code",
   "execution_count": 34,
   "metadata": {
    "deletable": false,
    "editable": false,
    "nbgrader": {
     "grade": true,
     "grade_id": "test4b-2_remove_corrupt_rows",
     "locked": true,
     "points": "0.4",
     "solution": false
    }
   },
   "outputs": [
    {
     "name": "stdout",
     "output_type": "stream",
     "text": [
      "Part 4.b. - Test 2 (name: test4b-2_remove_corrupt_rows, points: 0.4)\n",
      "\t--->Testing the implementation of 'remove_corrupt_rows' ...\n",
      "\n",
      "Good Job!\n",
      "You've passed the 2nd test of the 'remove_corrupt_rows' method implementation :-)\n"
     ]
    }
   ],
   "source": [
    "# 4.b.\n",
    "# ------------>>>>>>>> RUN THIS CODE CELL <<<<<<<<------------\n",
    "# --------  (run only)\n",
    "# === CODE TYPE: GRADED TEST \n",
    "\n",
    "\n",
    "print (\"Part 4.b. - Test 2 (name: test4b-2_remove_corrupt_rows, points: 0.4)\")\n",
    "print (\"\\t--->Testing the implementation of 'remove_corrupt_rows' ...\")\n",
    "\n",
    "file_name = '.' + os.sep + 'data' + os.sep + 'imdb_movies.csv'\n",
    "col_name = 'movie_imdb_link'\n",
    "try:\n",
    "    df_imdb_movies = load_csv(file_name)\n",
    "    df_cln = remove_duplicatives(df_imdb_movies, col_name)\n",
    "    df_rem_corrupt = remove_corrupt_rows(df_cln, 3)\n",
    "except Exception as e:\n",
    "    print ('You probably have a syntax error, we got the following exception:')\n",
    "    print (str(e))\n",
    "    raise\n",
    "\n",
    "for nIndx in [4,479,2412,4281]:\n",
    "    assert nIndx not in df_rem_corrupt.index, \"row '%d' should be filtered\" %(nIndx)\n",
    "    \n",
    "print (\"\\nGood Job!\\nYou've passed the 2nd test of the 'remove_corrupt_rows' method implementation :-)\")"
   ]
  },
  {
   "cell_type": "code",
   "execution_count": 35,
   "metadata": {
    "deletable": false,
    "editable": false,
    "nbgrader": {
     "grade": true,
     "grade_id": "test4b-3_remove_corrupt_rows",
     "locked": true,
     "points": "0.5",
     "solution": false
    }
   },
   "outputs": [
    {
     "name": "stdout",
     "output_type": "stream",
     "text": [
      "Part 4.b. - Test 3 (name: test4b-3_remove_corrupt_rows, points: 0.5)\n",
      "\t--->Testing the implementation of 'remove_corrupt_rows' ...\n",
      "\n",
      "Good Job!\n",
      "You've passed the 3rd test of the 'remove_corrupt_rows' method implementation :-)\n"
     ]
    }
   ],
   "source": [
    "# 4.b.\n",
    "# ------------>>>>>>>> RUN THIS CODE CELL <<<<<<<<------------\n",
    "# --------  (run only)\n",
    "# === CODE TYPE: GRADED TEST \n",
    "\n",
    "print (\"Part 4.b. - Test 3 (name: test4b-3_remove_corrupt_rows, points: 0.5)\")\n",
    "print (\"\\t--->Testing the implementation of 'remove_corrupt_rows' ...\")\n",
    "\n",
    "file_name = '.' + os.sep + 'data' + os.sep + 'imdb_movies.csv'\n",
    "col_name = 'movie_imdb_link'\n",
    "try:\n",
    "    df_imdb_movies = load_csv(file_name)\n",
    "    df_cln = remove_duplicatives(df_imdb_movies, col_name)\n",
    "    df_rem_corrupt = remove_corrupt_rows(df_cln, 3)\n",
    "except Exception as e:\n",
    "    print ('You probably have a syntax error, we got the following exception:')\n",
    "    print (str(e))\n",
    "    raise\n",
    "\n",
    "nan_vals_which_should_be_removed = [177, 260,  1265, 1736, 2143, 2370, 3539, 4288, 4299, 4999, 5032, 5038]\n",
    "for nIndx in nan_vals_which_should_be_removed:\n",
    "    assert nIndx not in df_rem_corrupt.index, \"row '%d' should be filtered\" %(nIndx)\n",
    "    \n",
    "print (\"\\nGood Job!\\nYou've passed the 3rd test of the 'remove_corrupt_rows' method implementation :-)\")"
   ]
  },
  {
   "cell_type": "markdown",
   "metadata": {
    "collapsed": true,
    "deletable": false,
    "editable": false,
    "nbgrader": {
     "grade": false,
     "locked": true,
     "solution": false
    }
   },
   "source": [
    "### 4.c. Replace missing values\n",
    "In this section you need to replace the values of missing data cells.<br/>\n",
    "There are multiple ways to fill in missing values.\n",
    "We will create three catagories:\n",
    "* Predefined columns, which will get a given default value\n",
    "* Numeric columns\n",
    "* Categorical colums"
   ]
  },
  {
   "cell_type": "markdown",
   "metadata": {
    "deletable": false,
    "editable": false,
    "nbgrader": {
     "grade": false,
     "locked": true,
     "solution": false
    }
   },
   "source": [
    "### 4.c. Instructions\n",
    "<u>method name</u>: <b>replace_missing_values</b>\n",
    "<pre>The following is expected:\n",
    "--- Complete the 'replace_missing_values' function to return a copy of a the given 'df' dataframe\n",
    "    after replacing missing values.\n",
    "\n",
    "    - The 'col_to_def_val_dict' is a dictionary of columns to default values.\n",
    "      In these columns (keys), you need to replace the missing value with the given default value (values).\n",
    "\n",
    "      Other columns are either numeric or categorical.\n",
    "      - Missing values from numeric columns, should be replaced with the median.\n",
    "      - Missing values from categorical columns, should be replaced with the most frequent value.\n",
    "         * Note: We consider categorical columns as columns which are not in \n",
    "               the 'col_to_def_val_dict' dictionary and are not numeric columns. \n",
    "         * Note 2: In this assignment none of the col_to_def_val_dict columns will be numeric.\n",
    "         \n",
    "         Hint - make a list of numerical and catagorical columns and deal with them separately \n",
    "</pre>"
   ]
  },
  {
   "cell_type": "code",
   "execution_count": 107,
   "metadata": {},
   "outputs": [],
   "source": [
    "# 4.c.\n",
    "# ------------>>>>>>>> RUN THIS CODE CELL <<<<<<<<------------\n",
    "# --------  (run after implementation)\n",
    "# === CODE TYPE: ANSWER \n",
    "\n",
    "def replace_missing_values(df, col_to_def_val_dict):\n",
    "    df2 = df.copy()\n",
    "    df2.fillna(value=col_to_def_val_dict, inplace=True)\n",
    "    for column in df2.select_dtypes(include=['number']).columns:\n",
    "        df2[column].fillna(value=df2[column].median(), inplace=True)\n",
    "    for column in df2.select_dtypes(exclude=['number']).columns:\n",
    "        df2[column].fillna(df[column].value_counts().idxmax() , inplace=True)\n",
    "    return df2"
   ]
  },
  {
   "cell_type": "code",
   "execution_count": 108,
   "metadata": {},
   "outputs": [
    {
     "name": "stdout",
     "output_type": "stream",
     "text": [
      "In =  (5043, 28) 45  duplicates, 2698  nulls\n",
      "#1 =  (4919, 28) 0  duplicates, 2657  nulls\n",
      "#2 =  (4724, 28) 0  duplicates, 1580  nulls\n",
      "Out =  (4724, 28) 0  duplicates, 0  nulls\n"
     ]
    }
   ],
   "source": [
    "# 4.c.\n",
    "# ------------>>>>>>>> RUN THIS CODE CELL <<<<<<<<------------\n",
    "# --------  (run after implementation)\n",
    "# === CODE TYPE: SELF TESTING\n",
    "# Use the following code to test your implementation:\n",
    "\n",
    "file_name = '.' + os.sep + 'data' + os.sep + 'imdb_movies.csv'\n",
    "col_name = 'movie_imdb_link'\n",
    "col_to_def_val = {'director_name':'unknown', \n",
    "    'actor_1_name':'unknown', 'actor_2_name':'unknown', 'actor_3_name':'unknown', 'genres':'unknown', \n",
    "    'plot_keywords':'unknown', 'movie_title':'unknown', 'movie_imdb_link':'unknown', 'country':'unknown'}\n",
    "df_imdb_movies = load_csv(file_name)\n",
    "df_cln = remove_duplicatives(df_imdb_movies, col_name)\n",
    "df_rem_corrupt = remove_corrupt_rows(df_cln, 3)\n",
    "df_rpl_missing = replace_missing_values(df_rem_corrupt, col_to_def_val)\n",
    "\n",
    "print(\"In = \", df_imdb_movies.shape, count_duplicatives(df_imdb_movies), ' duplicates,', df_imdb_movies.isna().sum().sum(), ' nulls')\n",
    "print(\"#1 = \", df_cln.shape, count_duplicatives(df_cln), ' duplicates,', df_cln.isna().sum().sum(), ' nulls')\n",
    "print(\"#2 = \", df_rem_corrupt.shape, count_duplicatives(df_rem_corrupt), ' duplicates,', df_rem_corrupt.isna().sum().sum(), ' nulls')\n",
    "print(\"Out = \", df_rpl_missing.shape, count_duplicatives(df_rpl_missing), ' duplicates,', df_rpl_missing.isna().sum().sum(), ' nulls')\n",
    "###\n",
    "### YOUR CODE HERE\n",
    "###\n"
   ]
  },
  {
   "cell_type": "code",
   "execution_count": 109,
   "metadata": {
    "collapsed": true
   },
   "outputs": [],
   "source": [
    "# 4.c.\n",
    "# ------------>>>>>>>> RUN THIS CODE CELL <<<<<<<<------------\n",
    "# --------  (run after implementation, if used)\n",
    "# === CODE TYPE: SELF TESTING\n",
    "# Add your additional tests here if needed:\n",
    "\n",
    "###\n",
    "### YOUR CODE HERE\n",
    "###\n"
   ]
  },
  {
   "cell_type": "code",
   "execution_count": 110,
   "metadata": {
    "deletable": false,
    "editable": false,
    "nbgrader": {
     "grade": true,
     "grade_id": "test4c-1_replace_missing_values",
     "locked": true,
     "points": "0.1",
     "solution": false
    }
   },
   "outputs": [
    {
     "name": "stdout",
     "output_type": "stream",
     "text": [
      "Part 4.c. - Test 1 (name: test4c-1_replace_missing_values, points: 0.1) - Sanity\n",
      "\t--->Testing the implementation of 'replace_missing_values' ...\n",
      "\n",
      "Good Job!\n",
      "You've passed the 1st test of the 'replace_missing_values' method implementation :-)\n"
     ]
    }
   ],
   "source": [
    "# 4.c.\n",
    "# ------------>>>>>>>> RUN THIS CODE CELL <<<<<<<<------------\n",
    "# --------  (run only)\n",
    "# === CODE TYPE: GRADED TEST \n",
    "\n",
    "print (\"Part 4.c. - Test 1 (name: test4c-1_replace_missing_values, points: 0.1) - Sanity\")\n",
    "print (\"\\t--->Testing the implementation of 'replace_missing_values' ...\")\n",
    "\n",
    "file_name = '.' + os.sep + 'data' + os.sep + 'imdb_movies.csv'\n",
    "col_name = 'movie_imdb_link'\n",
    "col_to_def_val = {'director_name':'unknown', \n",
    "    'actor_1_name':'unknown', 'actor_2_name':'unknown', 'actor_3_name':'unknown', 'genres':'unknown', \n",
    "    'plot_keywords':'unknown', 'movie_title':'unknown', 'movie_imdb_link':'unknown', 'country':'unknown'}\n",
    "try:\n",
    "    df_imdb_movies = load_csv(file_name)\n",
    "    df_cln = remove_duplicatives(df_imdb_movies, col_name)\n",
    "    df_rem_corrupt = remove_corrupt_rows(df_cln, 3)\n",
    "    df_rpl_missing = replace_missing_values(df_rem_corrupt, col_to_def_val)\n",
    "except Exception as e:\n",
    "    print ('You probably have a syntax error, we got the following exception:')\n",
    "    print (str(e))\n",
    "    raise\n",
    "    \n",
    "print (\"\\nGood Job!\\nYou've passed the 1st test of the 'replace_missing_values' method implementation :-)\")"
   ]
  },
  {
   "cell_type": "code",
   "execution_count": 111,
   "metadata": {
    "deletable": false,
    "editable": false,
    "nbgrader": {
     "grade": true,
     "grade_id": "test4c-2_replace_missing_values",
     "locked": true,
     "points": "0.2",
     "solution": false
    }
   },
   "outputs": [
    {
     "name": "stdout",
     "output_type": "stream",
     "text": [
      "Part 4.c. - Test 2 (name: test4c-2_replace_missing_values, points: 0.2)\n",
      "\t--->Testing the implementation of 'replace_missing_values' ...\n",
      "\n",
      "Good Job!\n",
      "You've passed the 2nd test of the 'replace_missing_values' method implementation :-)\n"
     ]
    }
   ],
   "source": [
    "# 4.c.\n",
    "# ------------>>>>>>>> RUN THIS CODE CELL <<<<<<<<------------\n",
    "# --------  (run only)\n",
    "# === CODE TYPE: GRADED TEST \n",
    "\n",
    "print (\"Part 4.c. - Test 2 (name: test4c-2_replace_missing_values, points: 0.2)\")\n",
    "print (\"\\t--->Testing the implementation of 'replace_missing_values' ...\")\n",
    "\n",
    "file_name = '.' + os.sep + 'data' + os.sep + 'imdb_movies.csv'\n",
    "col_name = 'movie_imdb_link'\n",
    "col_to_def_val = {'director_name':'unknown', \n",
    "    'actor_1_name':'unknown', 'actor_2_name':'unknown', 'actor_3_name':'unknown', 'genres':'unknown', \n",
    "    'plot_keywords':'unknown', 'movie_title':'unknown', 'movie_imdb_link':'unknown', 'country':'unknown'}\n",
    "try:\n",
    "    df_imdb_movies = load_csv(file_name)\n",
    "    df_cln = remove_duplicatives(df_imdb_movies, col_name)\n",
    "    df_rem_corrupt = remove_corrupt_rows(df_cln, 3)\n",
    "    df_rpl_missing = replace_missing_values(df_rem_corrupt, col_to_def_val)\n",
    "except Exception as e:\n",
    "    print ('You probably have a syntax error, we got the following exception:')\n",
    "    print (str(e))\n",
    "    raise\n",
    "    \n",
    "assert 0==len(df_rpl_missing[df_rpl_missing.isnull().T.any()].index.values), \"There should be no missing values after 'replace_missing_values'\"\n",
    "assert df_rem_corrupt.shape[0] == df_rpl_missing.shape[0] and df_rem_corrupt.shape[1] == df_rpl_missing.shape[1],  \"Dataframes 'df_rem_corrupt' & 'df_rpl_missing' should have the same shape\"\n",
    "\n",
    "print (\"\\nGood Job!\\nYou've passed the 2nd test of the 'replace_missing_values' method implementation :-)\")"
   ]
  },
  {
   "cell_type": "code",
   "execution_count": 112,
   "metadata": {
    "deletable": false,
    "editable": false,
    "nbgrader": {
     "grade": true,
     "grade_id": "test4c-3_replace_missing_values",
     "locked": true,
     "points": "0.4",
     "solution": false
    }
   },
   "outputs": [
    {
     "name": "stdout",
     "output_type": "stream",
     "text": [
      "Part 4.c. - Test 3 (name: test4c-3_replace_missing_values, points: 0.4)\n",
      "\t--->Testing the implementation of 'replace_missing_values' ...\n",
      "Finished numeric field missing value tests\n",
      "======================\n",
      "\n",
      "Good Job!\n",
      "You've passed the 3rd test of the 'replace_missing_values' method implementation :-)\n"
     ]
    }
   ],
   "source": [
    "# 4.c.\n",
    "# ------------>>>>>>>> RUN THIS CODE CELL <<<<<<<<------------\n",
    "# --------  (run only)\n",
    "# === CODE TYPE: GRADED TEST \n",
    "\n",
    "print (\"Part 4.c. - Test 3 (name: test4c-3_replace_missing_values, points: 0.4)\")\n",
    "print (\"\\t--->Testing the implementation of 'replace_missing_values' ...\")\n",
    "\n",
    "file_name = '.' + os.sep + 'data' + os.sep + 'imdb_movies.csv'\n",
    "col_name = 'movie_imdb_link'\n",
    "col_to_def_val = {'director_name':'unknown', \n",
    "    'actor_1_name':'unknown', 'actor_2_name':'unknown', 'actor_3_name':'unknown', 'genres':'unknown', \n",
    "    'plot_keywords':'unknown', 'movie_title':'unknown', 'movie_imdb_link':'unknown', 'country':'unknown'}\n",
    "try:\n",
    "    df_imdb_movies = load_csv(file_name)\n",
    "    df_cln = remove_duplicatives(df_imdb_movies, col_name)\n",
    "    df_rem_corrupt = remove_corrupt_rows(df_cln, 3)\n",
    "    df_rpl_missing = replace_missing_values(df_rem_corrupt, col_to_def_val)\n",
    "except Exception as e:\n",
    "    print ('You probably have a syntax error, we got the following exception:')\n",
    "    print (str(e))\n",
    "    raise\n",
    "\n",
    "assert 20000000.0 == df_rpl_missing['budget'].loc[55],\"Wrong value for the 'budget' column\"\n",
    "assert 2.35 == df_rpl_missing['aspect_ratio'].loc[84],\"Wrong value for the 'aspect_ratio' column\"\n",
    "assert 25105552.5 == df_rpl_missing['gross'].loc[98],\"Wrong value for the 'gross' column\"\n",
    "print ('Finished numeric field missing value tests')\n",
    "print ('======================')\n",
    "\n",
    "print (\"\\nGood Job!\\nYou've passed the 3rd test of the 'replace_missing_values' method implementation :-)\")"
   ]
  },
  {
   "cell_type": "code",
   "execution_count": 113,
   "metadata": {
    "deletable": false,
    "editable": false,
    "nbgrader": {
     "grade": true,
     "grade_id": "test4c-4_replace_missing_values",
     "locked": true,
     "points": "0.3",
     "solution": false
    }
   },
   "outputs": [
    {
     "name": "stdout",
     "output_type": "stream",
     "text": [
      "Part 4.c. - Test 4 (name: test4c-4_replace_missing_values, points: 0.3)\n",
      "\t--->Testing the implementation of 'replace_missing_values' ...\n",
      "\n",
      "\t====> Full grading test - the following test can not be seen before submission\n"
     ]
    }
   ],
   "source": [
    "# 4.c.\n",
    "# ------------>>>>>>>> RUN THIS CODE CELL <<<<<<<<------------\n",
    "# --------  (run only)\n",
    "# === CODE TYPE: GRADED TEST \n",
    "\n",
    "print (\"Part 4.c. - Test 4 (name: test4c-4_replace_missing_values, points: 0.3)\")\n",
    "print (\"\\t--->Testing the implementation of 'replace_missing_values' ...\")\n",
    "print (\"\\n\\t====> Full grading test - the following test can not be seen before submission\")\n",
    "###\n",
    "### AUTOGRADER TEST - DO NOT REMOVE\n",
    "###\n"
   ]
  },
  {
   "cell_type": "markdown",
   "metadata": {
    "collapsed": true,
    "deletable": false,
    "editable": false,
    "nbgrader": {
     "grade": false,
     "locked": true,
     "solution": false
    }
   },
   "source": [
    "## 5. Handle outliers\n",
    "In this section you'll need to detect and handle outliers in the data.<br/>\n",
    "You'll need to implement:\n",
    "* Outlier detection, using the IQR method\n",
    "* Outlier detection, using the distance to the average of the column\n",
    "\n",
    "Note: Using visualization was also one of the techniques you've learned.<br/>\n",
    "      You are advised to use it as a preprocessing step, to get a feeling for outliers."
   ]
  },
  {
   "cell_type": "code",
   "execution_count": 37,
   "metadata": {
    "collapsed": true
   },
   "outputs": [],
   "source": [
    "# 5.a.\n",
    "# ------------>>>>>>>> RUN THIS CODE CELL <<<<<<<<------------\n",
    "# --------  (run after implementation, if used)\n",
    "# === CODE TYPE: SELF EXPLORATORY\n",
    "# Add your exploratory code (including visualization) here if needed:\n",
    "pd.plotting.scatter_matrix(df_rpl_missing, figsize = [20,20])\n",
    "###\n",
    "### YOUR CODE HERE\n",
    "###\n"
   ]
  },
  {
   "cell_type": "markdown",
   "metadata": {
    "deletable": false,
    "editable": false,
    "nbgrader": {
     "grade": false,
     "locked": true,
     "solution": false
    }
   },
   "source": [
    "### 5.b. Outlier detection, using the IQR value"
   ]
  },
  {
   "cell_type": "markdown",
   "metadata": {
    "deletable": false,
    "editable": false,
    "nbgrader": {
     "grade": false,
     "locked": true,
     "solution": false
    }
   },
   "source": [
    "### 5.b. Instructions\n",
    "<u>method name</u>: <b>outlier_detection_iqr</b>\n",
    "<pre>The following is expected:\n",
    "--- Complete the 'outlier_detection_iqr' function to return a copy of a the given 'df' dataframe\n",
    "    after dealing with outliers, using the IQR method as you learned in this lesson.\n",
    "    \n",
    "    An outlier will be considered a value greater than Q3 + 1.5*IQR,\n",
    "       or a value less than Q1 - 1.5*IQR.\n",
    "\n",
    "    You should only refer to numerical columns when detecting outliers.   \n",
    "    If the value is an outlier, replace it with np.nan \n",
    "    \n",
    "    Note: this is only relevant for numerical columns\n",
    "</pre>"
   ]
  },
  {
   "cell_type": "code",
   "execution_count": 114,
   "metadata": {
    "collapsed": true
   },
   "outputs": [],
   "source": [
    "# 5.b.\n",
    "# ------------>>>>>>>> RUN THIS CODE CELL <<<<<<<<------------\n",
    "# --------  (run after implementation)\n",
    "# === CODE TYPE: ANSWER \n",
    "\n",
    "def outlier_detection_iqr(df):\n",
    "    df2 = df.copy()\n",
    "    for column in df.select_dtypes(include=['number']).columns:\n",
    "        Q3 = np.percentile(df2[column], 75)\n",
    "        Q1 = np.percentile(df2[column], 25)\n",
    "        IQR = Q3 - Q1\n",
    "        IQR_r = 1.5*IQR\n",
    "        df2[column].mask((df2[column] < Q1 -IQR_r) | (df2[column] > Q3 + IQR_r ), np.nan, inplace=True)\n",
    "    return df2\n"
   ]
  },
  {
   "cell_type": "code",
   "execution_count": 115,
   "metadata": {},
   "outputs": [
    {
     "name": "stdout",
     "output_type": "stream",
     "text": [
      "In =  0  nulls\n",
      "Out =  5560  nulls\n"
     ]
    }
   ],
   "source": [
    "# 5.b.\n",
    "# ------------>>>>>>>> RUN THIS CODE CELL <<<<<<<<------------\n",
    "# --------  (run after implementation)\n",
    "# === CODE TYPE: SELF TESTING\n",
    "# Use the following code to test your implementation:\n",
    "file_name = '.' + os.sep + 'data' + os.sep + 'imdb_movies.csv'\n",
    "col_name = 'movie_imdb_link'\n",
    "\n",
    "col_to_def_val = {'director_name':'unknown', \n",
    "    'actor_1_name':'unknown', 'actor_2_name':'unknown', 'actor_3_name':'unknown', 'genres':'unknown', \n",
    "    'plot_keywords':'unknown', 'movie_title':'unknown', 'movie_imdb_link':'unknown', 'country':'unknown'}\n",
    "df_imdb_movies = load_csv(file_name)\n",
    "df_cln = remove_duplicatives(df_imdb_movies, col_name)\n",
    "df_rem_corrupt = remove_corrupt_rows(df_cln, 3)\n",
    "df_rpl_missing = replace_missing_values(df_rem_corrupt, col_to_def_val)\n",
    "df_outlier_rem = outlier_detection_iqr(df_rpl_missing)\n",
    "\n",
    "print(\"In = \", df_rpl_missing.isna().sum().sum(), ' nulls')\n",
    "print(\"Out = \",df_outlier_rem.isna().sum().sum(), ' nulls')\n",
    "\n",
    "###\n",
    "### YOUR CODE HERE\n",
    "###\n"
   ]
  },
  {
   "cell_type": "code",
   "execution_count": 116,
   "metadata": {
    "collapsed": true
   },
   "outputs": [],
   "source": [
    "# 5.b.\n",
    "# ------------>>>>>>>> RUN THIS CODE CELL <<<<<<<<------------\n",
    "# --------  (run after implementation, if used)\n",
    "# === CODE TYPE: SELF TESTING\n",
    "# Add your additional tests here if needed:\n",
    "\n",
    "###\n",
    "### YOUR CODE HERE\n",
    "###\n"
   ]
  },
  {
   "cell_type": "code",
   "execution_count": 117,
   "metadata": {
    "deletable": false,
    "editable": false,
    "nbgrader": {
     "grade": true,
     "grade_id": "test5b-1_outlier_detection_iqr",
     "locked": true,
     "points": "0.1",
     "solution": false
    }
   },
   "outputs": [
    {
     "name": "stdout",
     "output_type": "stream",
     "text": [
      "Part 5.b. - Test 1 (name: test5b-1_outlier_detection_iqr, points: 0.1) - Sanity\n",
      "\t--->Testing the implementation of 'outlier_detection_iqr' ...\n",
      "\n",
      "Good Job!\n",
      "You've passed the 1st test of the 'outlier_detection_iqr' method implementation :-)\n"
     ]
    }
   ],
   "source": [
    "# 5.b.\n",
    "# ------------>>>>>>>> RUN THIS CODE CELL <<<<<<<<------------\n",
    "# --------  (run only)\n",
    "# === CODE TYPE: GRADED TEST \n",
    "\n",
    "\n",
    "print (\"Part 5.b. - Test 1 (name: test5b-1_outlier_detection_iqr, points: 0.1) - Sanity\")\n",
    "print (\"\\t--->Testing the implementation of 'outlier_detection_iqr' ...\")\n",
    "\n",
    "file_name = '.' + os.sep + 'data' + os.sep + 'imdb_movies.csv'\n",
    "col_name = 'movie_imdb_link'\n",
    "\n",
    "col_to_def_val = {'director_name':'unknown', \n",
    "    'actor_1_name':'unknown', 'actor_2_name':'unknown', 'actor_3_name':'unknown', 'genres':'unknown', \n",
    "    'plot_keywords':'unknown', 'movie_title':'unknown', 'movie_imdb_link':'unknown', 'country':'unknown'}\n",
    "try:\n",
    "    df_imdb_movies = load_csv(file_name)\n",
    "    df_cln = remove_duplicatives(df_imdb_movies, col_name)\n",
    "    df_rem_corrupt = remove_corrupt_rows(df_cln, 3)\n",
    "    df_rpl_missing = replace_missing_values(df_rem_corrupt, col_to_def_val)\n",
    "    df_outlier_rem = outlier_detection_iqr(df_rpl_missing)\n",
    "except Exception as e:\n",
    "    print ('You probably have a syntax error, we got the following exception:')\n",
    "    print (str(e))\n",
    "    raise\n",
    "\n",
    "print (\"\\nGood Job!\\nYou've passed the 1st test of the 'outlier_detection_iqr' method implementation :-)\")"
   ]
  },
  {
   "cell_type": "code",
   "execution_count": 118,
   "metadata": {
    "deletable": false,
    "editable": false,
    "nbgrader": {
     "grade": true,
     "grade_id": "test5b-2_outlier_detection_iqr",
     "locked": true,
     "points": "0.4",
     "solution": false
    }
   },
   "outputs": [
    {
     "name": "stdout",
     "output_type": "stream",
     "text": [
      "Part 5.b. - Test 2 (name: test5b-2_outlier_detection_iqr, points: 0.4)\n",
      "\t--->Testing the implementation of 'outlier_detection_iqr' ...\n",
      "\n",
      "Good Job!\n",
      "You've passed the 2nd test of the 'outlier_detection_iqr' method implementation :-)\n"
     ]
    }
   ],
   "source": [
    "# 5.b.\n",
    "# ------------>>>>>>>> RUN THIS CODE CELL <<<<<<<<------------\n",
    "# --------  (run only)\n",
    "# === CODE TYPE: GRADED TEST \n",
    "\n",
    "print (\"Part 5.b. - Test 2 (name: test5b-2_outlier_detection_iqr, points: 0.4)\")\n",
    "print (\"\\t--->Testing the implementation of 'outlier_detection_iqr' ...\")\n",
    "\n",
    "file_name = '.' + os.sep + 'data' + os.sep + 'imdb_movies.csv'\n",
    "col_name = 'movie_imdb_link'\n",
    "\n",
    "col_to_def_val = {'director_name':'unknown', \n",
    "    'actor_1_name':'unknown', 'actor_2_name':'unknown', 'actor_3_name':'unknown', 'genres':'unknown', \n",
    "    'plot_keywords':'unknown', 'movie_title':'unknown', 'movie_imdb_link':'unknown', 'country':'unknown'}\n",
    "try:\n",
    "    df_imdb_movies = load_csv(file_name)\n",
    "    df_cln = remove_duplicatives(df_imdb_movies, col_name)\n",
    "    df_rem_corrupt = remove_corrupt_rows(df_cln, 3)\n",
    "    df_rpl_missing = replace_missing_values(df_rem_corrupt, col_to_def_val)\n",
    "    df_outlier_rem = outlier_detection_iqr(df_rpl_missing)\n",
    "except Exception as e:\n",
    "    print ('You probably have a syntax error, we got the following exception:')\n",
    "    print (str(e))\n",
    "    raise\n",
    "df_outliers = df_outlier_rem.isnull().sum().to_frame('iqr_outliers')\n",
    "assert 195 == df_outliers['iqr_outliers']['num_critic_for_reviews'], \"Wrong number of 'num_critic_for_reviews' outliers\"\n",
    "assert 414 == df_outliers['iqr_outliers']['gross'], \"Wrong number of 'gross' outliers\"\n",
    "assert 108 == df_outliers['iqr_outliers']['imdb_score'], \"Wrong number of 'imdb_score' outliers\"\n",
    "assert (4724, 28) == df_outlier_rem.shape, \"The 'df_outlier_rem' datafrane has the wrong shape\"\n",
    "\n",
    "print (\"\\nGood Job!\\nYou've passed the 2nd test of the 'outlier_detection_iqr' method implementation :-)\")"
   ]
  },
  {
   "cell_type": "code",
   "execution_count": 119,
   "metadata": {
    "deletable": false,
    "editable": false,
    "nbgrader": {
     "grade": true,
     "grade_id": "test5b-3_outlier_detection_iqr",
     "locked": true,
     "points": "0.5",
     "solution": false
    }
   },
   "outputs": [
    {
     "name": "stdout",
     "output_type": "stream",
     "text": [
      "Part 5.b. - Test 3 (name: test5b-3_outlier_detection_iqr, points: 0.5)\n",
      "\t--->Testing the implementation of 'outlier_detection_iqr' ...\n",
      "\n",
      "\t====> Full grading test - the following test can not be seen before submission\n"
     ]
    }
   ],
   "source": [
    "# 5.b.\n",
    "# ------------>>>>>>>> RUN THIS CODE CELL <<<<<<<<------------\n",
    "# --------  (run only)\n",
    "# === CODE TYPE: GRADED TEST \n",
    "\n",
    "\n",
    "print (\"Part 5.b. - Test 3 (name: test5b-3_outlier_detection_iqr, points: 0.5)\")\n",
    "print (\"\\t--->Testing the implementation of 'outlier_detection_iqr' ...\")\n",
    "print (\"\\n\\t====> Full grading test - the following test can not be seen before submission\")\n",
    "\n",
    "###\n",
    "### AUTOGRADER TEST - DO NOT REMOVE\n",
    "###\n"
   ]
  },
  {
   "cell_type": "markdown",
   "metadata": {
    "deletable": false,
    "editable": false,
    "nbgrader": {
     "grade": false,
     "locked": true,
     "solution": false
    }
   },
   "source": [
    "### 5.c. Outlier detection, using the distance from the average"
   ]
  },
  {
   "cell_type": "markdown",
   "metadata": {
    "deletable": false,
    "editable": false,
    "nbgrader": {
     "grade": false,
     "locked": true,
     "solution": false
    }
   },
   "source": [
    "### 5.c. Instructions\n",
    "<u>method name</u>: <b>outlier_detection_dist_to_avg</b>\n",
    "<pre>The following is expected:\n",
    "--- Complete the 'outlier_detection_dist_to_avg' function to return a copy of a the given 'df' dataframe,\n",
    "    after dealing with outliers.\n",
    "\n",
    "    This time, an outlier is considered as such, \n",
    "          if the absolute value of the z-score (as you learned in the lesson) is greater than 3.\n",
    "\n",
    "    Notes:    \n",
    "         * The standard diviation (std) needs to be calculated as std for a sample (and not for a population).\n",
    "         * You should only refer to numerical columns when detecting outliers.   \n",
    "         * If the value is an outlier, replace it with np.nan\n",
    "</pre>"
   ]
  },
  {
   "cell_type": "code",
   "execution_count": 120,
   "metadata": {
    "collapsed": true
   },
   "outputs": [],
   "source": [
    "# 5.c.\n",
    "# ------------>>>>>>>> RUN THIS CODE CELL <<<<<<<<------------\n",
    "# --------  (run after implementation)\n",
    "# === CODE TYPE: ANSWER \n",
    "\n",
    "def outlier_detection_zscore_dist(df):\n",
    "    df2 = df.copy()\n",
    "    for column in df.select_dtypes(include=['number']).columns:\n",
    "        score = (df2[column] - df2[column].mean()) / df2[column].std()\n",
    "        df2[column].mask( abs(score) > 3, np.nan, inplace=True)\n",
    "    return df2\n"
   ]
  },
  {
   "cell_type": "code",
   "execution_count": 121,
   "metadata": {},
   "outputs": [
    {
     "name": "stdout",
     "output_type": "stream",
     "text": [
      "In =  0  nulls\n",
      "Out =  1269  nulls\n"
     ]
    }
   ],
   "source": [
    "# 5.c.\n",
    "# ------------>>>>>>>> RUN THIS CODE CELL <<<<<<<<------------\n",
    "# --------  (run after implementation)\n",
    "# === CODE TYPE: SELF TESTING\n",
    "# Use the following code to test your implementation:\n",
    "file_name = '.' + os.sep + 'data' + os.sep + 'imdb_movies.csv'\n",
    "col_name = 'movie_imdb_link'\n",
    "col_to_def_val = {'director_name':'unknown', \n",
    "    'actor_1_name':'unknown', 'actor_2_name':'unknown', 'actor_3_name':'unknown', 'genres':'unknown', \n",
    "    'plot_keywords':'unknown', 'movie_title':'unknown', 'movie_imdb_link':'unknown', 'country':'unknown'}\n",
    "df_imdb_movies = load_csv(file_name)\n",
    "df_cln = remove_duplicatives(df_imdb_movies, col_name)\n",
    "df_rem_corrupt = remove_corrupt_rows(df_cln, 3)\n",
    "df_rpl_missing = replace_missing_values(df_rem_corrupt, col_to_def_val)\n",
    "df_outlier2_rem = outlier_detection_zscore_dist(df_rpl_missing)\n",
    "\n",
    "\n",
    "print(\"In = \", df_rpl_missing.isna().sum().sum(), ' nulls')\n",
    "print(\"Out = \",df_outlier2_rem.isna().sum().sum(), ' nulls')\n",
    "\n",
    "###\n",
    "### YOUR CODE HERE\n",
    "###\n"
   ]
  },
  {
   "cell_type": "code",
   "execution_count": 122,
   "metadata": {
    "collapsed": true
   },
   "outputs": [],
   "source": [
    "# 5.c.\n",
    "# ------------>>>>>>>> RUN THIS CODE CELL <<<<<<<<------------\n",
    "# --------  (run after implementation, if used)\n",
    "# === CODE TYPE: SELF TESTING\n",
    "# Add your additional tests here if needed:\n",
    "\n",
    "###\n",
    "### YOUR CODE HERE\n",
    "###\n"
   ]
  },
  {
   "cell_type": "code",
   "execution_count": 123,
   "metadata": {
    "deletable": false,
    "editable": false,
    "nbgrader": {
     "grade": true,
     "grade_id": "test5c-1_outlier_detection_zscore_dist",
     "locked": true,
     "points": "0.1",
     "solution": false
    }
   },
   "outputs": [
    {
     "name": "stdout",
     "output_type": "stream",
     "text": [
      "Part 5.c. - Test 1 (name: test5c-1_outlier_detection_zscore_dist, points: 0.1) - Sanity\n",
      "\t--->Testing the implementation of 'outlier_detection_zscore_dist' ...\n",
      "\n",
      "Good Job!\n",
      "You've passed the 1st test of the 'outlier_detection_zscore_dist' method implementation :-)\n"
     ]
    }
   ],
   "source": [
    "# 5.c.\n",
    "# ------------>>>>>>>> RUN THIS CODE CELL <<<<<<<<------------\n",
    "# --------  (run only)\n",
    "# === CODE TYPE: GRADED TEST \n",
    "\n",
    "print (\"Part 5.c. - Test 1 (name: test5c-1_outlier_detection_zscore_dist, points: 0.1) - Sanity\")\n",
    "print (\"\\t--->Testing the implementation of 'outlier_detection_zscore_dist' ...\")\n",
    "\n",
    "file_name = '.' + os.sep + 'data' + os.sep + 'imdb_movies.csv'\n",
    "col_name = 'movie_imdb_link'\n",
    "\n",
    "col_to_def_val = {'director_name':'unknown', \n",
    "    'actor_1_name':'unknown', 'actor_2_name':'unknown', 'actor_3_name':'unknown', 'genres':'unknown', \n",
    "    'plot_keywords':'unknown', 'movie_title':'unknown', 'movie_imdb_link':'unknown', 'country':'unknown'}\n",
    "try:\n",
    "    df_imdb_movies = load_csv(file_name)\n",
    "    df_cln = remove_duplicatives(df_imdb_movies, col_name)\n",
    "    df_rem_corrupt = remove_corrupt_rows(df_cln, 3)\n",
    "    df_rpl_missing = replace_missing_values(df_rem_corrupt, col_to_def_val)\n",
    "    df_outlier2_rem = outlier_detection_zscore_dist(df_rpl_missing)\n",
    "except Exception as e:\n",
    "    print ('You probably have a syntax error, we got the following exception:')\n",
    "    print (str(e))\n",
    "    raise\n",
    "\n",
    "print (\"\\nGood Job!\\nYou've passed the 1st test of the 'outlier_detection_zscore_dist' method implementation :-)\")"
   ]
  },
  {
   "cell_type": "code",
   "execution_count": 124,
   "metadata": {
    "deletable": false,
    "editable": false,
    "nbgrader": {
     "grade": true,
     "grade_id": "test5c-2_outlier_detection_zscore_dist",
     "locked": true,
     "points": "0.4",
     "solution": false
    }
   },
   "outputs": [
    {
     "name": "stdout",
     "output_type": "stream",
     "text": [
      "Part 5.c. - Test 2 (name: test5c-2_outlier_detection_zscore_dist, points: 0.4)\n",
      "\t--->Testing the implementation of 'outlier_detection_zscore_dist' ...\n",
      "\n",
      "Good Job!\n",
      "You've passed the 2nd test of the 'outlier_detection_zscore_dist' method implementation :-)\n"
     ]
    }
   ],
   "source": [
    "# 5.c.\n",
    "# ------------>>>>>>>> RUN THIS CODE CELL <<<<<<<<------------\n",
    "# --------  (run only)\n",
    "# === CODE TYPE: GRADED TEST \n",
    "\n",
    "print (\"Part 5.c. - Test 2 (name: test5c-2_outlier_detection_zscore_dist, points: 0.4)\")\n",
    "print (\"\\t--->Testing the implementation of 'outlier_detection_zscore_dist' ...\")\n",
    "\n",
    "file_name = '.' + os.sep + 'data' + os.sep + 'imdb_movies.csv'\n",
    "col_name = 'movie_imdb_link'\n",
    "\n",
    "col_to_def_val = {'director_name':'unknown', \n",
    "    'actor_1_name':'unknown', 'actor_2_name':'unknown', 'actor_3_name':'unknown', 'genres':'unknown', \n",
    "    'plot_keywords':'unknown', 'movie_title':'unknown', 'movie_imdb_link':'unknown', 'country':'unknown'}\n",
    "try:\n",
    "    df_imdb_movies = load_csv(file_name)\n",
    "    df_cln = remove_duplicatives(df_imdb_movies, col_name)\n",
    "    df_rem_corrupt = remove_corrupt_rows(df_cln, 3)\n",
    "    df_rpl_missing = replace_missing_values(df_rem_corrupt, col_to_def_val)\n",
    "    df_outlier2_rem = outlier_detection_zscore_dist(df_rpl_missing)\n",
    "except Exception as e:\n",
    "    print ('You probably have a syntax error, we got the following exception:')\n",
    "    print (str(e))\n",
    "    raise\n",
    "    \n",
    "df_outliers2 = df_outlier2_rem.isnull().sum().to_frame('zscore_outliers')\n",
    "assert 79 == df_outliers2['zscore_outliers']['num_critic_for_reviews'], \"Wrong number of 'num_critic_for_reviews' outliers\"\n",
    "assert 112 == df_outliers2['zscore_outliers']['gross'], \"Wrong number of 'gross' outliers\"\n",
    "assert 42 == df_outliers2['zscore_outliers']['imdb_score'], \"Wrong number of 'imdb_score' outliers\"\n",
    "assert (4724, 28) == df_outlier2_rem.shape, \"The 'df_outlier_rem' datafrane has the wrong shape\"\n",
    "\n",
    "print (\"\\nGood Job!\\nYou've passed the 2nd test of the 'outlier_detection_zscore_dist' method implementation :-)\")"
   ]
  },
  {
   "cell_type": "code",
   "execution_count": 125,
   "metadata": {
    "deletable": false,
    "editable": false,
    "nbgrader": {
     "grade": true,
     "grade_id": "test5c-3_outlier_detection_zscore_dist",
     "locked": true,
     "points": "0.5",
     "solution": false
    }
   },
   "outputs": [
    {
     "name": "stdout",
     "output_type": "stream",
     "text": [
      "Part 5.c. - Test 3 (name: test5c-3_outlier_detection_zscore_dist, points: 0.5)\n",
      "\t--->Testing the implementation of 'outlier_detection_zscore_dist' ...\n",
      "\n",
      "\t====> Full grading test - the following test can not be seen before submission\n"
     ]
    }
   ],
   "source": [
    "# 5.c.\n",
    "# ------------>>>>>>>> RUN THIS CODE CELL <<<<<<<<------------\n",
    "# --------  (run only)\n",
    "# === CODE TYPE: GRADED TEST \n",
    "\n",
    "print (\"Part 5.c. - Test 3 (name: test5c-3_outlier_detection_zscore_dist, points: 0.5)\")\n",
    "print (\"\\t--->Testing the implementation of 'outlier_detection_zscore_dist' ...\")\n",
    "print (\"\\n\\t====> Full grading test - the following test can not be seen before submission\")\n",
    "\n",
    "###\n",
    "### AUTOGRADER TEST - DO NOT REMOVE\n",
    "###\n"
   ]
  },
  {
   "cell_type": "markdown",
   "metadata": {
    "deletable": false,
    "editable": false,
    "nbgrader": {
     "grade": false,
     "locked": true,
     "solution": false
    }
   },
   "source": [
    "## 6. Transfer data to categorical columns"
   ]
  },
  {
   "cell_type": "markdown",
   "metadata": {
    "deletable": false,
    "editable": false,
    "nbgrader": {
     "grade": false,
     "locked": true,
     "solution": false
    }
   },
   "source": [
    "### 6. Instructions\n",
    "<u>method name</u>: <b>transfer_to_categorical</b>\n",
    "<pre>The following is expected:\n",
    "--- Complete the 'transfer_to_categorical' function to return a copy of a the given 'df' dataframe,\n",
    "    after transfering column values to categorical data for each input column, as explained below.\n",
    "    Catagorical data allows easier and simpler analysis and is a popular statistics trick (Think\n",
    "    about Covid risk-age groups, for example).\n",
    "\n",
    "    A. Numeric columns\n",
    "    The 'numeric_to_bin_value_dict' is a dictionary consisting the numeric column names as keys and\n",
    "       a list of bin values as values. \n",
    "          For instance it might look as following {'duration': [4, 5, 10, 20, 120, 200]}.\n",
    "          Catagory one will be for values between 4 and 5, two for between 5 and 10, and so on.\n",
    "\n",
    "        Notes:\n",
    "        * Expect the bin value list to consist of 6 values.\n",
    "        * Use this dictionay to  trasfer the values of each of these\n",
    "          numeric columns separately to 5 groups from 1 to 5.\n",
    "        * Add the suffix '_categotial' to the new column name.\n",
    "          For instance, if the origanal column name is 'duration',\n",
    "          the new column name should be called 'duration_categotial'\n",
    "          \n",
    "        Hint: see pd.cut()\n",
    "\n",
    "    B. Non-Numeric columns\n",
    "    You should ADD for each categorical column in 'categorical_col_names',\n",
    "        a single binary indicator variable column (also called one-hot) for each unique value in that column.\n",
    "        Note: Use the original column name as a prefix to the new binary indicator column names.\n",
    "        Note: 'categorical_col_names' may contain columns with non-string values. \n",
    "</pre>"
   ]
  },
  {
   "cell_type": "code",
   "execution_count": 128,
   "metadata": {
    "collapsed": true
   },
   "outputs": [],
   "source": [
    "# 6.\n",
    "# ------------>>>>>>>> RUN THIS CODE CELL <<<<<<<<------------\n",
    "# --------  (run after implementation)\n",
    "# === CODE TYPE: ANSWER \n",
    "\n",
    "def transfer_to_categorical(df, numeric_to_bin_value_dict, categorical_col_names):  \n",
    "    df2 = df.copy()\n",
    "    for cate,delta in numeric_to_bin_value_dict.items():\n",
    "        df2[cate+'_categotial'] = pd.cut(df2[cate], bins=delta, labels=[1,2,3,4,5])\n",
    "    for cate in categorical_col_names:\n",
    "        df2 = pd.get_dummies(df2,columns=[cate],prefix = [cate])\n",
    "    return df2\n",
    "    \n"
   ]
  },
  {
   "cell_type": "code",
   "execution_count": 129,
   "metadata": {},
   "outputs": [],
   "source": [
    "# 6.\n",
    "# ------------>>>>>>>> RUN THIS CODE CELL <<<<<<<<------------\n",
    "# --------  (run after implementation)\n",
    "# === CODE TYPE: SELF TESTING\n",
    "# Use the following code to test your implementation:\n",
    "file_name = '.' + os.sep + 'data' + os.sep + 'imdb_movies.csv'\n",
    "col_name = 'movie_imdb_link'\n",
    "col_to_def_val = {'director_name':'unknown', \n",
    "    'actor_1_name':'unknown', 'actor_2_name':'unknown', 'actor_3_name':'unknown', 'genres':'unknown', \n",
    "    'plot_keywords':'unknown', 'movie_title':'unknown', 'movie_imdb_link':'unknown', 'country':'unknown'}\n",
    "numeric_to_bin_value_dict = {'duration': [41.0, 92.0, 100.0, 108.0, 121.0, 175.0], \n",
    "                             'imdb_score':[3.1, 5.6, 6.3, 6.799999999999999, 7.299999999999999, 9.3]}\n",
    "categorical_col_names = []\n",
    "df_imdb_movies = load_csv(file_name)\n",
    "df_cln = remove_duplicatives(df_imdb_movies, col_name)\n",
    "df_rem_corrupt = remove_corrupt_rows(df_cln, 3)\n",
    "df_rpl_missing = replace_missing_values(df_rem_corrupt, col_to_def_val)\n",
    "df_outlier2_rem = outlier_detection_zscore_dist(df_rpl_missing)\n",
    "# after outlier detection, fix values:\n",
    "df_outlier_repaired = replace_missing_values(df_outlier2_rem, col_to_def_val)\n",
    "df_categorical = transfer_to_categorical(df_outlier_repaired, numeric_to_bin_value_dict, categorical_col_names)\n",
    "###\n",
    "### YOUR CODE HERE\n",
    "###\n"
   ]
  },
  {
   "cell_type": "code",
   "execution_count": 130,
   "metadata": {
    "collapsed": true
   },
   "outputs": [],
   "source": [
    "# 6.\n",
    "# ------------>>>>>>>> RUN THIS CODE CELL <<<<<<<<------------\n",
    "# --------  (run after implementation, if used)\n",
    "# === CODE TYPE: SELF TESTING\n",
    "# Add your additional tests here if needed:\n",
    "\n",
    "###\n",
    "### YOUR CODE HERE\n",
    "###\n"
   ]
  },
  {
   "cell_type": "code",
   "execution_count": 131,
   "metadata": {
    "deletable": false,
    "editable": false,
    "nbgrader": {
     "grade": true,
     "grade_id": "test6-1_transfer_to_categorical_columns",
     "locked": true,
     "points": "0.1",
     "solution": false
    }
   },
   "outputs": [
    {
     "name": "stdout",
     "output_type": "stream",
     "text": [
      "Part 6. - Test 1 (name: test6-1_transfer_to_categorical_columns, points: 0.1) - Sanity\n",
      "\t--->Testing the implementation of 'transfer_to_categorical_columns' ...\n",
      "\n",
      "Good Job!\n",
      "You've passed the 1st test of the 'transfer_to_categorical_columns' method implementation :-)\n"
     ]
    }
   ],
   "source": [
    "# 6.\n",
    "# ------------>>>>>>>> RUN THIS CODE CELL <<<<<<<<------------\n",
    "# --------  (run only)\n",
    "# === CODE TYPE: GRADED TEST \n",
    "\n",
    "print (\"Part 6. - Test 1 (name: test6-1_transfer_to_categorical_columns, points: 0.1) - Sanity\")\n",
    "print (\"\\t--->Testing the implementation of 'transfer_to_categorical_columns' ...\")\n",
    "\n",
    "file_name = '.' + os.sep + 'data' + os.sep + 'imdb_movies.csv'\n",
    "col_name = 'movie_imdb_link'\n",
    "col_to_def_val = {'director_name':'unknown', \n",
    "    'actor_1_name':'unknown', 'actor_2_name':'unknown', 'actor_3_name':'unknown', 'genres':'unknown', \n",
    "    'plot_keywords':'unknown', 'movie_title':'unknown', 'movie_imdb_link':'unknown', 'country':'unknown'}\n",
    "numeric_to_bin_value_dict = {'duration': [41.0, 92.0, 100.0, 108.0, 121.0, 175.0], \n",
    "                             'imdb_score':[3.1, 5.6, 6.3, 6.799999999999999, 7.299999999999999, 9.3]}\n",
    "categorical_col_names = []\n",
    "try:\n",
    "    df_imdb_movies = load_csv(file_name)\n",
    "    df_cln = remove_duplicatives(df_imdb_movies, col_name)\n",
    "    df_rem_corrupt = remove_corrupt_rows(df_cln, 3)\n",
    "    df_rpl_missing = replace_missing_values(df_rem_corrupt, col_to_def_val)\n",
    "    df_outlier2_rem = outlier_detection_zscore_dist(df_rpl_missing)\n",
    "    # after outlier detection, fix values:\n",
    "    df_outlier_repaired = replace_missing_values(df_outlier2_rem, col_to_def_val)\n",
    "    df_categorical = transfer_to_categorical(df_outlier_repaired, numeric_to_bin_value_dict, categorical_col_names)\n",
    "except Exception as e:\n",
    "    print ('You probably have a syntax error, we got the following exception:')\n",
    "    print (str(e))\n",
    "    raise\n",
    "    \n",
    "print (\"\\nGood Job!\\nYou've passed the 1st test of the 'transfer_to_categorical_columns' method implementation :-)\")"
   ]
  },
  {
   "cell_type": "code",
   "execution_count": 132,
   "metadata": {
    "deletable": false,
    "editable": false,
    "nbgrader": {
     "grade": true,
     "grade_id": "test6-2_transfer_to_categorical_columns",
     "locked": true,
     "points": "0.2",
     "solution": false
    }
   },
   "outputs": [
    {
     "name": "stdout",
     "output_type": "stream",
     "text": [
      "Part 6. - Test 2 (name: test6-2_transfer_to_categorical_columns, points: 0.2)\n",
      "\t--->Testing the implementation of 'transfer_to_categorical_columns' ...\n",
      "\n",
      "Good Job!\n",
      "You've passed the 2nd test of the 'transfer_to_categorical_columns' method implementation :-)\n"
     ]
    }
   ],
   "source": [
    "# 6.\n",
    "# ------------>>>>>>>> RUN THIS CODE CELL <<<<<<<<------------\n",
    "# --------  (run only)\n",
    "# === CODE TYPE: GRADED TEST \n",
    "\n",
    "print (\"Part 6. - Test 2 (name: test6-2_transfer_to_categorical_columns, points: 0.2)\")\n",
    "print (\"\\t--->Testing the implementation of 'transfer_to_categorical_columns' ...\")\n",
    "\n",
    "file_name = '.' + os.sep + 'data' + os.sep + 'imdb_movies.csv'\n",
    "col_name = 'movie_imdb_link'\n",
    "col_to_def_val = {'director_name':'unknown', \n",
    "    'actor_1_name':'unknown', 'actor_2_name':'unknown', 'actor_3_name':'unknown', 'genres':'unknown', \n",
    "    'plot_keywords':'unknown', 'movie_title':'unknown', 'movie_imdb_link':'unknown', 'country':'unknown'}\n",
    "numeric_to_bin_value_dict = {'duration': [41.0, 92.0, 100.0, 108.0, 121.0, 175.0], \n",
    "                             'imdb_score':[3.1, 5.6, 6.3, 6.799999999999999, 7.299999999999999, 9.3]}\n",
    "categorical_col_names = []\n",
    "try:\n",
    "    df_imdb_movies = load_csv(file_name)\n",
    "    df_cln = remove_duplicatives(df_imdb_movies, col_name)\n",
    "    df_rem_corrupt = remove_corrupt_rows(df_cln, 3)\n",
    "    df_rpl_missing = replace_missing_values(df_rem_corrupt, col_to_def_val)\n",
    "    df_outlier2_rem = outlier_detection_zscore_dist(df_rpl_missing)\n",
    "    # after outlier detection, fix values:\n",
    "    df_outlier_repaired = replace_missing_values(df_outlier2_rem, col_to_def_val)\n",
    "    df_categorical = transfer_to_categorical(df_outlier_repaired, numeric_to_bin_value_dict, categorical_col_names)\n",
    "except Exception as e:\n",
    "    print ('You probably have a syntax error, we got the following exception:')\n",
    "    print (str(e))\n",
    "    raise\n",
    "    \n",
    "assert 'duration_categotial' in df_categorical.columns, \"Missing syntetic categotial column\"\n",
    "assert 'imdb_score_categotial' in df_categorical.columns, \"Missing syntetic categotial column\"\n",
    "\n",
    "print (\"\\nGood Job!\\nYou've passed the 2nd test of the 'transfer_to_categorical_columns' method implementation :-)\")"
   ]
  },
  {
   "cell_type": "code",
   "execution_count": 133,
   "metadata": {
    "deletable": false,
    "editable": false,
    "nbgrader": {
     "grade": true,
     "grade_id": "test6-3_transfer_to_categorical_columns",
     "locked": true,
     "points": "0.3",
     "solution": false
    }
   },
   "outputs": [
    {
     "name": "stdout",
     "output_type": "stream",
     "text": [
      "Part 6. - Test 3 (name: test6-3_transfer_to_categorical_columns, points: 0.3)\n",
      "\t--->Testing the implementation of 'transfer_to_categorical_columns' ...\n",
      "\n",
      "Good Job!\n",
      "You've passed the 3rd test of the 'transfer_to_categorical_columns' method implementation :-)\n"
     ]
    }
   ],
   "source": [
    "# 6.\n",
    "# ------------>>>>>>>> RUN THIS CODE CELL <<<<<<<<------------\n",
    "# --------  (run only)\n",
    "# === CODE TYPE: GRADED TEST \n",
    "\n",
    "print (\"Part 6. - Test 3 (name: test6-3_transfer_to_categorical_columns, points: 0.3)\")\n",
    "print (\"\\t--->Testing the implementation of 'transfer_to_categorical_columns' ...\")\n",
    "\n",
    "file_name = '.' + os.sep + 'data' + os.sep + 'imdb_movies.csv'\n",
    "col_name = 'movie_imdb_link'\n",
    "col_to_def_val = {'director_name':'unknown', \n",
    "    'actor_1_name':'unknown', 'actor_2_name':'unknown', 'actor_3_name':'unknown', 'genres':'unknown', \n",
    "    'plot_keywords':'unknown', 'movie_title':'unknown', 'movie_imdb_link':'unknown', 'country':'unknown'}\n",
    "numeric_to_bin_value_dict = {}\n",
    "categorical_col_names = ['color']\n",
    "try:\n",
    "    df_imdb_movies = load_csv(file_name)\n",
    "    df_cln = remove_duplicatives(df_imdb_movies, col_name)\n",
    "    df_rem_corrupt = remove_corrupt_rows(df_cln, 3)\n",
    "    df_rpl_missing = replace_missing_values(df_rem_corrupt, col_to_def_val)\n",
    "    df_outlier2_rem = outlier_detection_zscore_dist(df_rpl_missing)\n",
    "    # after outlier detection, fix values:\n",
    "    df_outlier_repaired = replace_missing_values(df_outlier2_rem, col_to_def_val)\n",
    "    df_categorical = transfer_to_categorical(df_outlier_repaired, numeric_to_bin_value_dict, categorical_col_names)\n",
    "except Exception as e:\n",
    "    print ('You probably have a syntax error, we got the following exception:')\n",
    "    print (str(e))\n",
    "    raise\n",
    "    \n",
    "assert 'color_Color' in df_categorical.columns, \"Missing syntetic binary column\"\n",
    "\n",
    "print (\"\\nGood Job!\\nYou've passed the 3rd test of the 'transfer_to_categorical_columns' method implementation :-)\")"
   ]
  },
  {
   "cell_type": "code",
   "execution_count": 134,
   "metadata": {
    "deletable": false,
    "editable": false,
    "nbgrader": {
     "grade": true,
     "grade_id": "test6-4_transfer_to_categorical_columns",
     "locked": true,
     "points": "0.4",
     "solution": false
    }
   },
   "outputs": [
    {
     "name": "stdout",
     "output_type": "stream",
     "text": [
      "Part 6. - Test 4 (name: test6-4_transfer_to_categorical_columns, points: 0.4)\n",
      "\t--->Testing the implementation of 'transfer_to_categorical_columns' ...\n",
      "\n",
      "\t====> Full grading test - the following test can not be seen before submission\n"
     ]
    }
   ],
   "source": [
    "# 6.\n",
    "# ------------>>>>>>>> RUN THIS CODE CELL <<<<<<<<------------\n",
    "# --------  (run only)\n",
    "# === CODE TYPE: GRADED TEST \n",
    "\n",
    "print (\"Part 6. - Test 4 (name: test6-4_transfer_to_categorical_columns, points: 0.4)\")\n",
    "print (\"\\t--->Testing the implementation of 'transfer_to_categorical_columns' ...\")\n",
    "print (\"\\n\\t====> Full grading test - the following test can not be seen before submission\")\n",
    "\n",
    "###\n",
    "### AUTOGRADER TEST - DO NOT REMOVE\n",
    "###\n"
   ]
  },
  {
   "cell_type": "code",
   "execution_count": 135,
   "metadata": {},
   "outputs": [
    {
     "data": {
      "text/html": [
       "<div>\n",
       "<style scoped>\n",
       "    .dataframe tbody tr th:only-of-type {\n",
       "        vertical-align: middle;\n",
       "    }\n",
       "\n",
       "    .dataframe tbody tr th {\n",
       "        vertical-align: top;\n",
       "    }\n",
       "\n",
       "    .dataframe thead th {\n",
       "        text-align: right;\n",
       "    }\n",
       "</style>\n",
       "<table border=\"1\" class=\"dataframe\">\n",
       "  <thead>\n",
       "    <tr style=\"text-align: right;\">\n",
       "      <th></th>\n",
       "      <th>director_name</th>\n",
       "      <th>num_critic_for_reviews</th>\n",
       "      <th>duration</th>\n",
       "      <th>director_facebook_likes</th>\n",
       "      <th>actor_3_facebook_likes</th>\n",
       "      <th>actor_2_name</th>\n",
       "      <th>actor_1_facebook_likes</th>\n",
       "      <th>gross</th>\n",
       "      <th>genres</th>\n",
       "      <th>actor_1_name</th>\n",
       "      <th>...</th>\n",
       "      <th>country</th>\n",
       "      <th>content_rating</th>\n",
       "      <th>budget</th>\n",
       "      <th>title_year</th>\n",
       "      <th>actor_2_facebook_likes</th>\n",
       "      <th>imdb_score</th>\n",
       "      <th>aspect_ratio</th>\n",
       "      <th>movie_facebook_likes</th>\n",
       "      <th>color_ Black and White</th>\n",
       "      <th>color_Color</th>\n",
       "    </tr>\n",
       "  </thead>\n",
       "  <tbody>\n",
       "    <tr>\n",
       "      <th>0</th>\n",
       "      <td>James Cameron</td>\n",
       "      <td>111.0</td>\n",
       "      <td>103.0</td>\n",
       "      <td>0.0</td>\n",
       "      <td>855.0</td>\n",
       "      <td>Joel David Moore</td>\n",
       "      <td>1000.0</td>\n",
       "      <td>25105552.5</td>\n",
       "      <td>Action|Adventure|Fantasy|Sci-Fi</td>\n",
       "      <td>CCH Pounder</td>\n",
       "      <td>...</td>\n",
       "      <td>USA</td>\n",
       "      <td>PG-13</td>\n",
       "      <td>237000000.0</td>\n",
       "      <td>2009.0</td>\n",
       "      <td>936.0</td>\n",
       "      <td>7.9</td>\n",
       "      <td>1.78</td>\n",
       "      <td>33000.0</td>\n",
       "      <td>0</td>\n",
       "      <td>1</td>\n",
       "    </tr>\n",
       "    <tr>\n",
       "      <th>1</th>\n",
       "      <td>Gore Verbinski</td>\n",
       "      <td>302.0</td>\n",
       "      <td>169.0</td>\n",
       "      <td>563.0</td>\n",
       "      <td>1000.0</td>\n",
       "      <td>Orlando Bloom</td>\n",
       "      <td>40000.0</td>\n",
       "      <td>25105552.5</td>\n",
       "      <td>Action|Adventure|Fantasy</td>\n",
       "      <td>Johnny Depp</td>\n",
       "      <td>...</td>\n",
       "      <td>USA</td>\n",
       "      <td>PG-13</td>\n",
       "      <td>300000000.0</td>\n",
       "      <td>2007.0</td>\n",
       "      <td>5000.0</td>\n",
       "      <td>7.1</td>\n",
       "      <td>2.35</td>\n",
       "      <td>0.0</td>\n",
       "      <td>0</td>\n",
       "      <td>1</td>\n",
       "    </tr>\n",
       "    <tr>\n",
       "      <th>2</th>\n",
       "      <td>Sam Mendes</td>\n",
       "      <td>111.0</td>\n",
       "      <td>148.0</td>\n",
       "      <td>0.0</td>\n",
       "      <td>161.0</td>\n",
       "      <td>Rory Kinnear</td>\n",
       "      <td>11000.0</td>\n",
       "      <td>200074175.0</td>\n",
       "      <td>Action|Adventure|Thriller</td>\n",
       "      <td>Christoph Waltz</td>\n",
       "      <td>...</td>\n",
       "      <td>UK</td>\n",
       "      <td>PG-13</td>\n",
       "      <td>245000000.0</td>\n",
       "      <td>2015.0</td>\n",
       "      <td>393.0</td>\n",
       "      <td>6.8</td>\n",
       "      <td>2.35</td>\n",
       "      <td>138.0</td>\n",
       "      <td>0</td>\n",
       "      <td>1</td>\n",
       "    </tr>\n",
       "    <tr>\n",
       "      <th>3</th>\n",
       "      <td>Christopher Nolan</td>\n",
       "      <td>111.0</td>\n",
       "      <td>164.0</td>\n",
       "      <td>44.0</td>\n",
       "      <td>362.0</td>\n",
       "      <td>Christian Bale</td>\n",
       "      <td>27000.0</td>\n",
       "      <td>25105552.5</td>\n",
       "      <td>Action|Thriller</td>\n",
       "      <td>Tom Hardy</td>\n",
       "      <td>...</td>\n",
       "      <td>USA</td>\n",
       "      <td>PG-13</td>\n",
       "      <td>250000000.0</td>\n",
       "      <td>2012.0</td>\n",
       "      <td>586.5</td>\n",
       "      <td>8.5</td>\n",
       "      <td>2.35</td>\n",
       "      <td>138.0</td>\n",
       "      <td>0</td>\n",
       "      <td>1</td>\n",
       "    </tr>\n",
       "    <tr>\n",
       "      <th>5</th>\n",
       "      <td>Andrew Stanton</td>\n",
       "      <td>462.0</td>\n",
       "      <td>132.0</td>\n",
       "      <td>475.0</td>\n",
       "      <td>530.0</td>\n",
       "      <td>Samantha Morton</td>\n",
       "      <td>640.0</td>\n",
       "      <td>73058679.0</td>\n",
       "      <td>Action|Adventure|Sci-Fi</td>\n",
       "      <td>Daryl Sabara</td>\n",
       "      <td>...</td>\n",
       "      <td>USA</td>\n",
       "      <td>PG-13</td>\n",
       "      <td>263700000.0</td>\n",
       "      <td>2012.0</td>\n",
       "      <td>632.0</td>\n",
       "      <td>6.6</td>\n",
       "      <td>2.35</td>\n",
       "      <td>24000.0</td>\n",
       "      <td>0</td>\n",
       "      <td>1</td>\n",
       "    </tr>\n",
       "    <tr>\n",
       "      <th>...</th>\n",
       "      <td>...</td>\n",
       "      <td>...</td>\n",
       "      <td>...</td>\n",
       "      <td>...</td>\n",
       "      <td>...</td>\n",
       "      <td>...</td>\n",
       "      <td>...</td>\n",
       "      <td>...</td>\n",
       "      <td>...</td>\n",
       "      <td>...</td>\n",
       "      <td>...</td>\n",
       "      <td>...</td>\n",
       "      <td>...</td>\n",
       "      <td>...</td>\n",
       "      <td>...</td>\n",
       "      <td>...</td>\n",
       "      <td>...</td>\n",
       "      <td>...</td>\n",
       "      <td>...</td>\n",
       "      <td>...</td>\n",
       "      <td>...</td>\n",
       "    </tr>\n",
       "    <tr>\n",
       "      <th>5035</th>\n",
       "      <td>Robert Rodriguez</td>\n",
       "      <td>56.0</td>\n",
       "      <td>81.0</td>\n",
       "      <td>0.0</td>\n",
       "      <td>6.0</td>\n",
       "      <td>Peter Marquardt</td>\n",
       "      <td>121.0</td>\n",
       "      <td>2040920.0</td>\n",
       "      <td>Action|Crime|Drama|Romance|Thriller</td>\n",
       "      <td>Carlos Gallardo</td>\n",
       "      <td>...</td>\n",
       "      <td>USA</td>\n",
       "      <td>R</td>\n",
       "      <td>7000.0</td>\n",
       "      <td>1992.0</td>\n",
       "      <td>20.0</td>\n",
       "      <td>6.9</td>\n",
       "      <td>1.37</td>\n",
       "      <td>0.0</td>\n",
       "      <td>0</td>\n",
       "      <td>1</td>\n",
       "    </tr>\n",
       "    <tr>\n",
       "      <th>5036</th>\n",
       "      <td>Anthony Vallone</td>\n",
       "      <td>112.0</td>\n",
       "      <td>84.0</td>\n",
       "      <td>2.0</td>\n",
       "      <td>2.0</td>\n",
       "      <td>John Considine</td>\n",
       "      <td>45.0</td>\n",
       "      <td>25105552.5</td>\n",
       "      <td>Crime|Drama</td>\n",
       "      <td>Richard Jewell</td>\n",
       "      <td>...</td>\n",
       "      <td>USA</td>\n",
       "      <td>PG-13</td>\n",
       "      <td>3250.0</td>\n",
       "      <td>2005.0</td>\n",
       "      <td>44.0</td>\n",
       "      <td>7.8</td>\n",
       "      <td>2.35</td>\n",
       "      <td>4.0</td>\n",
       "      <td>0</td>\n",
       "      <td>1</td>\n",
       "    </tr>\n",
       "    <tr>\n",
       "      <th>5037</th>\n",
       "      <td>Edward Burns</td>\n",
       "      <td>14.0</td>\n",
       "      <td>95.0</td>\n",
       "      <td>0.0</td>\n",
       "      <td>133.0</td>\n",
       "      <td>Caitlin FitzGerald</td>\n",
       "      <td>296.0</td>\n",
       "      <td>4584.0</td>\n",
       "      <td>Comedy|Drama</td>\n",
       "      <td>Kerry Bishé</td>\n",
       "      <td>...</td>\n",
       "      <td>USA</td>\n",
       "      <td>Not Rated</td>\n",
       "      <td>9000.0</td>\n",
       "      <td>2011.0</td>\n",
       "      <td>205.0</td>\n",
       "      <td>6.4</td>\n",
       "      <td>2.35</td>\n",
       "      <td>413.0</td>\n",
       "      <td>0</td>\n",
       "      <td>1</td>\n",
       "    </tr>\n",
       "    <tr>\n",
       "      <th>5041</th>\n",
       "      <td>Daniel Hsia</td>\n",
       "      <td>14.0</td>\n",
       "      <td>100.0</td>\n",
       "      <td>0.0</td>\n",
       "      <td>489.0</td>\n",
       "      <td>Daniel Henney</td>\n",
       "      <td>946.0</td>\n",
       "      <td>10443.0</td>\n",
       "      <td>Comedy|Drama|Romance</td>\n",
       "      <td>Alan Ruck</td>\n",
       "      <td>...</td>\n",
       "      <td>USA</td>\n",
       "      <td>PG-13</td>\n",
       "      <td>20000000.0</td>\n",
       "      <td>2012.0</td>\n",
       "      <td>719.0</td>\n",
       "      <td>6.3</td>\n",
       "      <td>2.35</td>\n",
       "      <td>660.0</td>\n",
       "      <td>0</td>\n",
       "      <td>1</td>\n",
       "    </tr>\n",
       "    <tr>\n",
       "      <th>5042</th>\n",
       "      <td>Jon Gunn</td>\n",
       "      <td>43.0</td>\n",
       "      <td>90.0</td>\n",
       "      <td>16.0</td>\n",
       "      <td>16.0</td>\n",
       "      <td>Brian Herzlinger</td>\n",
       "      <td>86.0</td>\n",
       "      <td>85222.0</td>\n",
       "      <td>Documentary</td>\n",
       "      <td>John August</td>\n",
       "      <td>...</td>\n",
       "      <td>USA</td>\n",
       "      <td>PG</td>\n",
       "      <td>1100.0</td>\n",
       "      <td>2004.0</td>\n",
       "      <td>23.0</td>\n",
       "      <td>6.6</td>\n",
       "      <td>1.85</td>\n",
       "      <td>456.0</td>\n",
       "      <td>0</td>\n",
       "      <td>1</td>\n",
       "    </tr>\n",
       "  </tbody>\n",
       "</table>\n",
       "<p>4724 rows × 29 columns</p>\n",
       "</div>"
      ],
      "text/plain": [
       "          director_name  num_critic_for_reviews  duration  \\\n",
       "0         James Cameron                   111.0     103.0   \n",
       "1        Gore Verbinski                   302.0     169.0   \n",
       "2            Sam Mendes                   111.0     148.0   \n",
       "3     Christopher Nolan                   111.0     164.0   \n",
       "5        Andrew Stanton                   462.0     132.0   \n",
       "...                 ...                     ...       ...   \n",
       "5035   Robert Rodriguez                    56.0      81.0   \n",
       "5036    Anthony Vallone                   112.0      84.0   \n",
       "5037       Edward Burns                    14.0      95.0   \n",
       "5041        Daniel Hsia                    14.0     100.0   \n",
       "5042           Jon Gunn                    43.0      90.0   \n",
       "\n",
       "      director_facebook_likes  actor_3_facebook_likes        actor_2_name  \\\n",
       "0                         0.0                   855.0    Joel David Moore   \n",
       "1                       563.0                  1000.0       Orlando Bloom   \n",
       "2                         0.0                   161.0        Rory Kinnear   \n",
       "3                        44.0                   362.0      Christian Bale   \n",
       "5                       475.0                   530.0     Samantha Morton   \n",
       "...                       ...                     ...                 ...   \n",
       "5035                      0.0                     6.0     Peter Marquardt   \n",
       "5036                      2.0                     2.0      John Considine   \n",
       "5037                      0.0                   133.0  Caitlin FitzGerald   \n",
       "5041                      0.0                   489.0       Daniel Henney   \n",
       "5042                     16.0                    16.0    Brian Herzlinger   \n",
       "\n",
       "      actor_1_facebook_likes        gross  \\\n",
       "0                     1000.0   25105552.5   \n",
       "1                    40000.0   25105552.5   \n",
       "2                    11000.0  200074175.0   \n",
       "3                    27000.0   25105552.5   \n",
       "5                      640.0   73058679.0   \n",
       "...                      ...          ...   \n",
       "5035                   121.0    2040920.0   \n",
       "5036                    45.0   25105552.5   \n",
       "5037                   296.0       4584.0   \n",
       "5041                   946.0      10443.0   \n",
       "5042                    86.0      85222.0   \n",
       "\n",
       "                                   genres     actor_1_name  ... country  \\\n",
       "0         Action|Adventure|Fantasy|Sci-Fi      CCH Pounder  ...     USA   \n",
       "1                Action|Adventure|Fantasy      Johnny Depp  ...     USA   \n",
       "2               Action|Adventure|Thriller  Christoph Waltz  ...      UK   \n",
       "3                         Action|Thriller        Tom Hardy  ...     USA   \n",
       "5                 Action|Adventure|Sci-Fi     Daryl Sabara  ...     USA   \n",
       "...                                   ...              ...  ...     ...   \n",
       "5035  Action|Crime|Drama|Romance|Thriller  Carlos Gallardo  ...     USA   \n",
       "5036                          Crime|Drama   Richard Jewell  ...     USA   \n",
       "5037                         Comedy|Drama      Kerry Bishé  ...     USA   \n",
       "5041                 Comedy|Drama|Romance        Alan Ruck  ...     USA   \n",
       "5042                          Documentary      John August  ...     USA   \n",
       "\n",
       "      content_rating       budget title_year  actor_2_facebook_likes  \\\n",
       "0              PG-13  237000000.0     2009.0                   936.0   \n",
       "1              PG-13  300000000.0     2007.0                  5000.0   \n",
       "2              PG-13  245000000.0     2015.0                   393.0   \n",
       "3              PG-13  250000000.0     2012.0                   586.5   \n",
       "5              PG-13  263700000.0     2012.0                   632.0   \n",
       "...              ...          ...        ...                     ...   \n",
       "5035               R       7000.0     1992.0                    20.0   \n",
       "5036           PG-13       3250.0     2005.0                    44.0   \n",
       "5037       Not Rated       9000.0     2011.0                   205.0   \n",
       "5041           PG-13   20000000.0     2012.0                   719.0   \n",
       "5042              PG       1100.0     2004.0                    23.0   \n",
       "\n",
       "     imdb_score aspect_ratio  movie_facebook_likes color_ Black and White  \\\n",
       "0           7.9         1.78               33000.0                      0   \n",
       "1           7.1         2.35                   0.0                      0   \n",
       "2           6.8         2.35                 138.0                      0   \n",
       "3           8.5         2.35                 138.0                      0   \n",
       "5           6.6         2.35               24000.0                      0   \n",
       "...         ...          ...                   ...                    ...   \n",
       "5035        6.9         1.37                   0.0                      0   \n",
       "5036        7.8         2.35                   4.0                      0   \n",
       "5037        6.4         2.35                 413.0                      0   \n",
       "5041        6.3         2.35                 660.0                      0   \n",
       "5042        6.6         1.85                 456.0                      0   \n",
       "\n",
       "     color_Color  \n",
       "0              1  \n",
       "1              1  \n",
       "2              1  \n",
       "3              1  \n",
       "5              1  \n",
       "...          ...  \n",
       "5035           1  \n",
       "5036           1  \n",
       "5037           1  \n",
       "5041           1  \n",
       "5042           1  \n",
       "\n",
       "[4724 rows x 29 columns]"
      ]
     },
     "execution_count": 135,
     "metadata": {},
     "output_type": "execute_result"
    }
   ],
   "source": [
    "df_categorical"
   ]
  },
  {
   "cell_type": "code",
   "execution_count": 136,
   "metadata": {},
   "outputs": [
    {
     "data": {
      "text/plain": [
       "Index(['director_name', 'num_critic_for_reviews', 'duration',\n",
       "       'director_facebook_likes', 'actor_3_facebook_likes', 'actor_2_name',\n",
       "       'actor_1_facebook_likes', 'gross', 'genres', 'actor_1_name',\n",
       "       'movie_title', 'num_voted_users', 'cast_total_facebook_likes',\n",
       "       'actor_3_name', 'facenumber_in_poster', 'plot_keywords',\n",
       "       'movie_imdb_link', 'num_user_for_reviews', 'language', 'country',\n",
       "       'content_rating', 'budget', 'title_year', 'actor_2_facebook_likes',\n",
       "       'imdb_score', 'aspect_ratio', 'movie_facebook_likes',\n",
       "       'color_ Black and White', 'color_Color'],\n",
       "      dtype='object')"
      ]
     },
     "execution_count": 136,
     "metadata": {},
     "output_type": "execute_result"
    }
   ],
   "source": [
    "df_categorical.columns"
   ]
  }
 ],
 "metadata": {
  "kernelspec": {
   "display_name": "Python 3.8",
   "language": "python",
   "name": "python38"
  },
  "language_info": {
   "codemirror_mode": {
    "name": "ipython",
    "version": 3
   },
   "file_extension": ".py",
   "mimetype": "text/x-python",
   "name": "python",
   "nbconvert_exporter": "python",
   "pygments_lexer": "ipython3",
   "version": "3.8.7"
  }
 },
 "nbformat": 4,
 "nbformat_minor": 2
}
